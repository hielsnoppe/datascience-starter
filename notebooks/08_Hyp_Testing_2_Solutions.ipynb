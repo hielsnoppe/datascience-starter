{
 "cells": [
  {
   "attachments": {},
   "cell_type": "markdown",
   "metadata": {
    "slideshow": {
     "slide_type": "slide"
    }
   },
   "source": [
    "# Hypothesis Testing Exercises"
   ]
  },
  {
   "cell_type": "code",
   "execution_count": null,
   "metadata": {},
   "outputs": [],
   "source": [
    "from pyreadr import read_r\n",
    "from scipy import stats\n",
    "from statsmodels.stats.proportion import proportions_ztest, proportion_confint"
   ]
  },
  {
   "attachments": {},
   "cell_type": "markdown",
   "metadata": {
    "slideshow": {
     "slide_type": "slide"
    }
   },
   "source": [
    "## 1) Radon Detectors\n",
    "\n",
    "A sample of 12 radon detectors of a certain type was selected, and each was exposed to 100 pCi/L of radon.\n",
    "The resulting readings were as follows. (Data ex08.32) \n",
    "\n",
    "**Does this data suggest that the population mean reading under these conditions differs from 100?**\n",
    "\n",
    "* Write the relevant hypotheses, select the applicable test and write the relevant Python code.\n",
    "* Mark your decision regarding the Null-hypothesis ($\\alpha = .05$) and write a conclusion with regard to the original question.\n",
    "* Which type of error could have you made with your decision?"
   ]
  },
  {
   "cell_type": "code",
   "execution_count": 93,
   "metadata": {},
   "outputs": [
    {
     "data": {
      "text/html": [
       "<div>\n",
       "<style scoped>\n",
       "    .dataframe tbody tr th:only-of-type {\n",
       "        vertical-align: middle;\n",
       "    }\n",
       "\n",
       "    .dataframe tbody tr th {\n",
       "        vertical-align: top;\n",
       "    }\n",
       "\n",
       "    .dataframe thead th {\n",
       "        text-align: right;\n",
       "    }\n",
       "</style>\n",
       "<table border=\"1\" class=\"dataframe\">\n",
       "  <thead>\n",
       "    <tr style=\"text-align: right;\">\n",
       "      <th></th>\n",
       "      <th>C1</th>\n",
       "    </tr>\n",
       "    <tr>\n",
       "      <th>rownames</th>\n",
       "      <th></th>\n",
       "    </tr>\n",
       "  </thead>\n",
       "  <tbody>\n",
       "    <tr>\n",
       "      <th>1</th>\n",
       "      <td>105.6</td>\n",
       "    </tr>\n",
       "    <tr>\n",
       "      <th>2</th>\n",
       "      <td>90.9</td>\n",
       "    </tr>\n",
       "    <tr>\n",
       "      <th>3</th>\n",
       "      <td>91.2</td>\n",
       "    </tr>\n",
       "    <tr>\n",
       "      <th>4</th>\n",
       "      <td>96.9</td>\n",
       "    </tr>\n",
       "    <tr>\n",
       "      <th>5</th>\n",
       "      <td>96.5</td>\n",
       "    </tr>\n",
       "  </tbody>\n",
       "</table>\n",
       "</div>"
      ],
      "text/plain": [
       "             C1\n",
       "rownames       \n",
       "1         105.6\n",
       "2          90.9\n",
       "3          91.2\n",
       "4          96.9\n",
       "5          96.5"
      ]
     },
     "execution_count": 93,
     "metadata": {},
     "output_type": "execute_result"
    }
   ],
   "source": [
    "df = read_r('../data/devore7/ex08.32.rda')['ex08.32']\n",
    "df.head()"
   ]
  },
  {
   "cell_type": "markdown",
   "metadata": {},
   "source": [
    "* $H_0: \\mu = 100$\n",
    "* $H_A: \\mu \\neq 100$"
   ]
  },
  {
   "cell_type": "code",
   "execution_count": 70,
   "metadata": {},
   "outputs": [
    {
     "data": {
      "text/plain": [
       "TtestResult(statistic=-0.9213828271018268, pvalue=0.37661608746499975, df=11)"
      ]
     },
     "execution_count": 70,
     "metadata": {},
     "output_type": "execute_result"
    }
   ],
   "source": [
    "stats.ttest_1samp(df['C1'], popmean=100, alternative='two-sided')"
   ]
  },
  {
   "cell_type": "markdown",
   "metadata": {},
   "source": [
    "## 8) Effect of Temperature\n",
    "\n",
    "An experiment to determine the effects of temperature on the survival of insect eggs was described in the article “Development Rates and a Temperature-Dependent Model of Pales Weevil” (Environ. Entomology, 1987: 956–962).\n",
    "At 11°C, 73 of 91 eggs survived to the next stage of development.\n",
    "At 30°C, 102 of 110 eggs survived.\n",
    "\n",
    "**Do the results of this experiment suggest that the survival rate (proportion surviving in the population) is higher for 30°C temperature?**\n",
    "\n",
    "* Write the relevant hypotheses, select the applicable test and write the relevant Python code.\n",
    "* Mark your decision regarding the Null-hypothesis ($\\alpha = .05$) and write a conclusion with regard to the original question.\n",
    "* Which type of error could have you made with your decision?"
   ]
  },
  {
   "cell_type": "markdown",
   "metadata": {},
   "source": [
    "* $\\pi_{11} \\geq \\pi_{30}$\n",
    "* $\\pi_{11} < \\pi_{30}$"
   ]
  },
  {
   "cell_type": "code",
   "execution_count": 71,
   "metadata": {},
   "outputs": [
    {
     "data": {
      "text/plain": [
       "(-2.630144568163633, 0.004267428251156687)"
      ]
     },
     "execution_count": 71,
     "metadata": {},
     "output_type": "execute_result"
    }
   ],
   "source": [
    "from statsmodels.stats.proportion import proportions_ztest\n",
    "\n",
    "proportions_ztest(\n",
    "    count=[73, 102],\n",
    "    nobs=[91, 110],\n",
    "    alternative='smaller'\n",
    "    )"
   ]
  },
  {
   "cell_type": "markdown",
   "metadata": {},
   "source": [
    "## 6) Robots\n",
    "\n",
    "Scientists think that robots will play a crucial role in factories in the next several decades.\n",
    "Suppose that in an experiment to determine whether the use of robots to weave computer cables is feasible,\n",
    "a robot was used to assemble 500 cables.\n",
    "The cables were examined and there were 10 defectives.\n",
    "\n",
    "**If human assemblers have a defect rate of .035 (3.5%), does this data support the hypothesis that the proportion of defectives is lower for robots than for humans?**\n",
    "\n",
    "* Write the relevant hypotheses, select the applicable test and write the relevant Python code.\n",
    "* Mark your decision regarding the Null-hypothesis ($\\alpha = .05$) and write a conclusion with regard to the original question.\n",
    "* Which type of error could have you made with your decision?"
   ]
  },
  {
   "cell_type": "markdown",
   "metadata": {},
   "source": [
    "* $H_0: \\pi \\geq 0.035$\n",
    "* $H_A: \\pi < 0.035$"
   ]
  },
  {
   "cell_type": "code",
   "execution_count": 72,
   "metadata": {},
   "outputs": [
    {
     "data": {
      "text/plain": [
       "(-2.3957871187497752, 0.008292359711399333)"
      ]
     },
     "execution_count": 72,
     "metadata": {},
     "output_type": "execute_result"
    }
   ],
   "source": [
    "proportions_ztest(\n",
    "    count=10,\n",
    "    nobs=500,\n",
    "    value=0.035,\n",
    "    alternative='smaller'\n",
    ")"
   ]
  },
  {
   "attachments": {},
   "cell_type": "markdown",
   "metadata": {
    "slideshow": {
     "slide_type": "slide"
    }
   },
   "source": [
    "## 4) Drywall\n",
    "\n",
    "With domestic sources of building supplies running low several years ago, roughly 60,000 homes were built with imported Chinese drywall.\n",
    "According to the article “Report Links Chinese Drywall to Home Problems” (New York Times, Nov. 24, 2009),\n",
    "federal investigators identified a strong association between chemicals in the drywall and electrical problems,\n",
    "and there is also strong evidence of respiratory difficulties due to the emission of hydrogen sulfide gas.\n",
    "An extensive examination of 51 homes found that 41 had such problems.\n",
    "Suppose these 51 were randomly sampled from the population of all homes having Chinese drywall.\n",
    "\n",
    "**Does the data provide strong evidence for concluding that more than 50% of all homes with Chinese drywall have electrical/environmental problems?**\n",
    "\n",
    "* Write the relevant hypotheses, select the applicable test and write the relevant Python code.\n",
    "* Mark your decision regarding the Null-hypothesis ($\\alpha = .01$) and write a conclusion with regard to the original question.\n",
    "* Which type of error could have you made with your decision?\n",
    "\n",
    "Extra: Calculate a confidence interval using a confidence level of 99% for the percentage of all such homes that have electrical/environmental problems."
   ]
  },
  {
   "cell_type": "markdown",
   "metadata": {},
   "source": [
    "* $H_0: \\pi \\leq 0.5$\n",
    "* $H_A: \\pi > 0.5$"
   ]
  },
  {
   "cell_type": "code",
   "execution_count": 73,
   "metadata": {},
   "outputs": [
    {
     "data": {
      "text/plain": [
       "(5.466695171450571, 2.292517684598636e-08)"
      ]
     },
     "execution_count": 73,
     "metadata": {},
     "output_type": "execute_result"
    }
   ],
   "source": [
    "proportions_ztest(count=41, nobs=51, value=0.5, alternative='larger')"
   ]
  },
  {
   "cell_type": "markdown",
   "metadata": {},
   "source": [
    "## 5) Sweetgum Lumber\n",
    "\n",
    "The article “Development of Novel Industrial Laminated Planks from Sweetgum Lumber” (J. of Bridge Engr., 2008: 64–66) described the manufacturing and testing of composite beams designed to add value to low-grade sweetgum lumber.\n",
    "The data set contains the modulus of elasticity obtained 1 minute after loading in a certain configuration and also 4 weeks after loading for the same lumber specimens. (Data: ex09.44)\n",
    "\n",
    "**Does the data provide strong evidence for concluding that on average the 4-week modulus is lower than the 1-minute modulus?**\n",
    "\n",
    "* Write the relevant hypotheses, select the applicable test and write the relevant Python code.\n",
    "* Mark your decision regarding the Null-hypothesis ($\\alpha = .05$) and write a conclusion with regard to the original question.\n",
    "* Which type of error could have you made with your decision?\n",
    "\n",
    "Extra: Calculate and interpret a 95%-confidence interval for the true average difference between 1-minute modulus and 4-week modulus."
   ]
  },
  {
   "cell_type": "code",
   "execution_count": 74,
   "metadata": {},
   "outputs": [
    {
     "data": {
      "text/html": [
       "<div>\n",
       "<style scoped>\n",
       "    .dataframe tbody tr th:only-of-type {\n",
       "        vertical-align: middle;\n",
       "    }\n",
       "\n",
       "    .dataframe tbody tr th {\n",
       "        vertical-align: top;\n",
       "    }\n",
       "\n",
       "    .dataframe thead th {\n",
       "        text-align: right;\n",
       "    }\n",
       "</style>\n",
       "<table border=\"1\" class=\"dataframe\">\n",
       "  <thead>\n",
       "    <tr style=\"text-align: right;\">\n",
       "      <th></th>\n",
       "      <th>X1min</th>\n",
       "      <th>X4weeks</th>\n",
       "      <th>diff</th>\n",
       "    </tr>\n",
       "    <tr>\n",
       "      <th>rownames</th>\n",
       "      <th></th>\n",
       "      <th></th>\n",
       "      <th></th>\n",
       "    </tr>\n",
       "  </thead>\n",
       "  <tbody>\n",
       "    <tr>\n",
       "      <th>1</th>\n",
       "      <td>10490</td>\n",
       "      <td>9110</td>\n",
       "      <td>1380</td>\n",
       "    </tr>\n",
       "    <tr>\n",
       "      <th>2</th>\n",
       "      <td>16620</td>\n",
       "      <td>13250</td>\n",
       "      <td>3370</td>\n",
       "    </tr>\n",
       "    <tr>\n",
       "      <th>3</th>\n",
       "      <td>17300</td>\n",
       "      <td>14720</td>\n",
       "      <td>2580</td>\n",
       "    </tr>\n",
       "    <tr>\n",
       "      <th>4</th>\n",
       "      <td>15480</td>\n",
       "      <td>12740</td>\n",
       "      <td>2740</td>\n",
       "    </tr>\n",
       "    <tr>\n",
       "      <th>5</th>\n",
       "      <td>12970</td>\n",
       "      <td>10120</td>\n",
       "      <td>2850</td>\n",
       "    </tr>\n",
       "  </tbody>\n",
       "</table>\n",
       "</div>"
      ],
      "text/plain": [
       "          X1min  X4weeks  diff\n",
       "rownames                      \n",
       "1         10490     9110  1380\n",
       "2         16620    13250  3370\n",
       "3         17300    14720  2580\n",
       "4         15480    12740  2740\n",
       "5         12970    10120  2850"
      ]
     },
     "execution_count": 74,
     "metadata": {},
     "output_type": "execute_result"
    }
   ],
   "source": [
    "df = read_r('../data/devore7/ex09.44.rda')['ex09.44']\n",
    "df['diff'] = df['X1min'] - df['X4weeks']\n",
    "df.head()"
   ]
  },
  {
   "cell_type": "markdown",
   "metadata": {},
   "source": [
    "* $H_0: \\mu_{diff} = 0$\n",
    "* $H_A: \\mu_{diff} \\neq 0$"
   ]
  },
  {
   "cell_type": "code",
   "execution_count": 75,
   "metadata": {},
   "outputs": [
    {
     "data": {
      "text/plain": [
       "TtestResult(statistic=20.726642571925268, pvalue=9.400604048000547e-13, df=15)"
      ]
     },
     "execution_count": 75,
     "metadata": {},
     "output_type": "execute_result"
    }
   ],
   "source": [
    "stats.ttest_1samp(df['diff'], popmean=0, alternative='greater')"
   ]
  },
  {
   "cell_type": "code",
   "execution_count": 76,
   "metadata": {},
   "outputs": [
    {
     "data": {
      "text/plain": [
       "TtestResult(statistic=20.726642571925268, pvalue=9.400604048000547e-13, df=15)"
      ]
     },
     "execution_count": 76,
     "metadata": {},
     "output_type": "execute_result"
    }
   ],
   "source": [
    "stats.ttest_1samp(df['X1min'] - df['X4weeks'], popmean=0, alternative='greater')"
   ]
  },
  {
   "cell_type": "code",
   "execution_count": 77,
   "metadata": {},
   "outputs": [
    {
     "data": {
      "text/plain": [
       "(2364.587291455535, 2906.662708544465)"
      ]
     },
     "execution_count": 77,
     "metadata": {},
     "output_type": "execute_result"
    }
   ],
   "source": [
    "stats.t.interval(0.95, loc=df['diff'].mean(), scale=df['diff'].sem(), df=15)"
   ]
  },
  {
   "attachments": {},
   "cell_type": "markdown",
   "metadata": {
    "slideshow": {
     "slide_type": "slide"
    }
   },
   "source": [
    "## 3) Organic Matter in Soil\n",
    "\n",
    "A random sample of soil specimens was obtained, and the amount of organic matter (%) in the soil was determined for each specimen, resulting in the accompanying data (from “Engineering Properties of Soil,” Soil Science, 1998: 93–102). (Data: ex08.54)\n",
    "\n",
    "**Does this data suggest that the true average percentage of organic matter in such soil is something other than 3%?**\n",
    "\n",
    "* Write the relevant hypotheses, select the applicable test and write the relevant Python code.\n",
    "* Mark your decision regarding the Null-hypothesis ($\\alpha = .10$) and write a conclusion with regard to the original question.\n",
    "* Which type of error could have you made with your decision?\n",
    "\n",
    "Extra: Calculate the sample mean, sample standard deviation, and (estimated) standard error of the mean.\n",
    "\n",
    "Extra: Would your conclusion be different if α = .05 had been used?"
   ]
  },
  {
   "cell_type": "code",
   "execution_count": 78,
   "metadata": {},
   "outputs": [
    {
     "data": {
      "text/html": [
       "<div>\n",
       "<style scoped>\n",
       "    .dataframe tbody tr th:only-of-type {\n",
       "        vertical-align: middle;\n",
       "    }\n",
       "\n",
       "    .dataframe tbody tr th {\n",
       "        vertical-align: top;\n",
       "    }\n",
       "\n",
       "    .dataframe thead th {\n",
       "        text-align: right;\n",
       "    }\n",
       "</style>\n",
       "<table border=\"1\" class=\"dataframe\">\n",
       "  <thead>\n",
       "    <tr style=\"text-align: right;\">\n",
       "      <th></th>\n",
       "      <th>percorg</th>\n",
       "    </tr>\n",
       "    <tr>\n",
       "      <th>rownames</th>\n",
       "      <th></th>\n",
       "    </tr>\n",
       "  </thead>\n",
       "  <tbody>\n",
       "    <tr>\n",
       "      <th>1</th>\n",
       "      <td>1.10</td>\n",
       "    </tr>\n",
       "    <tr>\n",
       "      <th>2</th>\n",
       "      <td>5.09</td>\n",
       "    </tr>\n",
       "    <tr>\n",
       "      <th>3</th>\n",
       "      <td>0.97</td>\n",
       "    </tr>\n",
       "    <tr>\n",
       "      <th>4</th>\n",
       "      <td>1.59</td>\n",
       "    </tr>\n",
       "    <tr>\n",
       "      <th>5</th>\n",
       "      <td>4.60</td>\n",
       "    </tr>\n",
       "  </tbody>\n",
       "</table>\n",
       "</div>"
      ],
      "text/plain": [
       "          percorg\n",
       "rownames         \n",
       "1            1.10\n",
       "2            5.09\n",
       "3            0.97\n",
       "4            1.59\n",
       "5            4.60"
      ]
     },
     "execution_count": 78,
     "metadata": {},
     "output_type": "execute_result"
    }
   ],
   "source": [
    "df = read_r('../data/devore7/ex08.54.rda')['ex08.54']\n",
    "df.head()"
   ]
  },
  {
   "cell_type": "code",
   "execution_count": 79,
   "metadata": {},
   "outputs": [
    {
     "data": {
      "text/plain": [
       "(2.481333333333333, 1.615640650839065, 0.2949742764289613)"
      ]
     },
     "execution_count": 79,
     "metadata": {},
     "output_type": "execute_result"
    }
   ],
   "source": [
    "# TODO: calculate statistial parameters\n",
    "mean = df['percorg'].mean()\n",
    "std = df['percorg'].std()\n",
    "sem = df['percorg'].sem()\n",
    "mean, std, sem"
   ]
  },
  {
   "cell_type": "markdown",
   "metadata": {},
   "source": [
    "* $H_0: \\mu = 3$\n",
    "* $H_A: \\mu \\neq 3$"
   ]
  },
  {
   "cell_type": "code",
   "execution_count": 80,
   "metadata": {},
   "outputs": [
    {
     "data": {
      "text/plain": [
       "TtestResult(statistic=-1.7583454155588971, pvalue=0.08923961541442524, df=29)"
      ]
     },
     "execution_count": 80,
     "metadata": {},
     "output_type": "execute_result"
    }
   ],
   "source": [
    "# TODO: perform test\n",
    "stats.ttest_1samp(df['percorg'], popmean=3, alternative='two-sided')"
   ]
  },
  {
   "cell_type": "markdown",
   "metadata": {},
   "source": [
    "## 2) Food Contamination\n",
    "\n",
    "Recent incidents of food contamination have caused great concern among consumers.\n",
    "The article: “How Safe Is That Chicken?” (Consumer Reports, Jan. 2010: 19–23) reported that 35 of 80 randomly selected Perdue brand broilers tested positively for either campylobacter or salmonella (or both),\n",
    "the leading bacterial causes of food-borne disease,\n",
    "whereas 66 of 80 Tyson brand broilers tested positive.\n",
    "\n",
    "**Does it appear that the true proportion of non-contaminated Perdue broilers differs from that for the Tyson brand?**\n",
    "\n",
    "* Write the relevant hypotheses, select the applicable test and write the relevant Python code.\n",
    "* Mark your decision regarding the Null-hypothesis ($\\alpha = .01$) and write a conclusion with regard to the original question.\n",
    "* Which type of error could have you made with your decision?"
   ]
  },
  {
   "cell_type": "markdown",
   "metadata": {},
   "source": [
    "* $H_0: \\pi_{Perdue} = \\pi_{Tyson}$\n",
    "* $H_A: \\pi_{Perdue} \\neq \\pi_{Tyson}$"
   ]
  },
  {
   "cell_type": "code",
   "execution_count": 81,
   "metadata": {},
   "outputs": [
    {
     "data": {
      "text/plain": [
       "(-5.079664071409531, 3.7810285696151036e-07)"
      ]
     },
     "execution_count": 81,
     "metadata": {},
     "output_type": "execute_result"
    }
   ],
   "source": [
    "proportions_ztest(count=[35, 66], nobs=[80, 80], alternative='two-sided')"
   ]
  },
  {
   "attachments": {},
   "cell_type": "markdown",
   "metadata": {
    "slideshow": {
     "slide_type": "slide"
    }
   },
   "source": [
    "## 5) Soil Heat\n",
    "\n",
    "The article “Orchard Floor Management Utilizing Soil-Applied Coal Dust for Frost Protection” (Agri. and Forest Meteorology, 1988: 71–82) reports the following values for soil heat flux of eight plots covered with coal dust. (Data: ex08.66)\n",
    "The mean soil heat flux for plots covered only with grass is 29.0.\n",
    "\n",
    "**Assuming that the heat-flux distribution is approximately normal, does the data suggest that the coal dust is effective in increasing the mean heat flux over that for grass?**\n",
    "\n",
    "* Write the relevant hypotheses, select the applicable test and write the relevant Python code.\n",
    "* Mark your decision regarding the Null-hypothesis ($\\alpha = .05$) and write a conclusion with regard to the original question.\n",
    "* Which type of error could have you made with your decision?"
   ]
  },
  {
   "cell_type": "markdown",
   "metadata": {},
   "source": [
    "* $H_0: \\mu \\leq 29.0$\n",
    "* $H_A: \\mu > 29.0$"
   ]
  },
  {
   "cell_type": "code",
   "execution_count": 82,
   "metadata": {},
   "outputs": [
    {
     "data": {
      "text/plain": [
       "TtestResult(statistic=0.7742408478324565, pvalue=0.2320653906988781, df=7)"
      ]
     },
     "execution_count": 82,
     "metadata": {},
     "output_type": "execute_result"
    }
   ],
   "source": [
    "df = read_r('../data/devore7/ex08.66.rda')['ex08.66']\n",
    "stats.ttest_1samp(df['SoilHeat'], popmean=29, alternative='greater')"
   ]
  },
  {
   "cell_type": "markdown",
   "metadata": {},
   "source": [
    "## 2) Batteries\n",
    "\n",
    "A manufacturer of nickel-hydrogen batteries randomly selects 100 nickel plates for test cells, cycles them a specified number of times, and determines that 14 of the plates have blistered. \n",
    "\n",
    "**Does this provide compelling evidence for concluding that more than 10% of all plates blister under such circumstances?**\n",
    "\n",
    "* Write the relevant hypotheses, select the applicable test and write the relevant Python code.\n",
    "* Mark your decision regarding the Null-hypothesis ($\\alpha = .05$) and write a conclusion with regard to the original question.\n",
    "* Which type of error could have you made with your decision?"
   ]
  },
  {
   "cell_type": "markdown",
   "metadata": {},
   "source": [
    "* $H_0: \\pi \\leq 10\\%$\n",
    "* $H_A: \\pi > 10\\%$"
   ]
  },
  {
   "cell_type": "code",
   "execution_count": 83,
   "metadata": {},
   "outputs": [
    {
     "data": {
      "text/plain": [
       "(1.1527808354084703, 0.12450017622604997)"
      ]
     },
     "execution_count": 83,
     "metadata": {},
     "output_type": "execute_result"
    }
   ],
   "source": [
    "proportions_ztest(count=14, nobs=100, value=0.1, alternative='larger')"
   ]
  },
  {
   "cell_type": "markdown",
   "metadata": {},
   "source": [
    "## 3) Bearings.\n",
    "\n",
    "The derailment of a freight train due to the catastrophic failure of a traction motor armature bearing provided the impetus for a study reported in the article “Locomotive Traction Motor Armature Bearing Life Study” (Lubrication Engr., Aug. 1997: 12–19).\n",
    "A sample of 17 high-mileage traction motors was selected,\n",
    "and the amount of cone penetration (mm/10) was determined both for the pinion bearing and for the commutator armature bearing, resulting in the given data (Data: ex09.72)\n",
    "\n",
    "**Does the population mean penetration differ for the two types of bearings?**\n",
    "\n",
    "* Write the relevant hypotheses, select the applicable test and write the relevant Python code.\n",
    "* Mark your decision regarding the Null-hypothesis ($\\alpha = .05$) and write a conclusion with regard to the original question.\n",
    "* Which type of error could have you made with your decision?\n",
    "\n",
    "Extra: Calculate a 95% confidence interval estimate of the population mean difference between penetration for the commutator armature bearing and penetration for the pinion bearing."
   ]
  },
  {
   "cell_type": "code",
   "execution_count": 84,
   "metadata": {},
   "outputs": [
    {
     "data": {
      "text/html": [
       "<div>\n",
       "<style scoped>\n",
       "    .dataframe tbody tr th:only-of-type {\n",
       "        vertical-align: middle;\n",
       "    }\n",
       "\n",
       "    .dataframe tbody tr th {\n",
       "        vertical-align: top;\n",
       "    }\n",
       "\n",
       "    .dataframe thead th {\n",
       "        text-align: right;\n",
       "    }\n",
       "</style>\n",
       "<table border=\"1\" class=\"dataframe\">\n",
       "  <thead>\n",
       "    <tr style=\"text-align: right;\">\n",
       "      <th></th>\n",
       "      <th>Motor</th>\n",
       "      <th>Commutator</th>\n",
       "      <th>Pinion</th>\n",
       "    </tr>\n",
       "    <tr>\n",
       "      <th>rownames</th>\n",
       "      <th></th>\n",
       "      <th></th>\n",
       "      <th></th>\n",
       "    </tr>\n",
       "  </thead>\n",
       "  <tbody>\n",
       "    <tr>\n",
       "      <th>1</th>\n",
       "      <td>1</td>\n",
       "      <td>211</td>\n",
       "      <td>226</td>\n",
       "    </tr>\n",
       "    <tr>\n",
       "      <th>2</th>\n",
       "      <td>2</td>\n",
       "      <td>273</td>\n",
       "      <td>278</td>\n",
       "    </tr>\n",
       "    <tr>\n",
       "      <th>3</th>\n",
       "      <td>3</td>\n",
       "      <td>305</td>\n",
       "      <td>259</td>\n",
       "    </tr>\n",
       "    <tr>\n",
       "      <th>4</th>\n",
       "      <td>4</td>\n",
       "      <td>258</td>\n",
       "      <td>244</td>\n",
       "    </tr>\n",
       "    <tr>\n",
       "      <th>5</th>\n",
       "      <td>5</td>\n",
       "      <td>270</td>\n",
       "      <td>273</td>\n",
       "    </tr>\n",
       "  </tbody>\n",
       "</table>\n",
       "</div>"
      ],
      "text/plain": [
       "          Motor  Commutator  Pinion\n",
       "rownames                           \n",
       "1             1         211     226\n",
       "2             2         273     278\n",
       "3             3         305     259\n",
       "4             4         258     244\n",
       "5             5         270     273"
      ]
     },
     "execution_count": 84,
     "metadata": {},
     "output_type": "execute_result"
    }
   ],
   "source": [
    "df = read_r('../data/devore7/ex09.72.rda')['ex09.72']\n",
    "df.head()"
   ]
  },
  {
   "cell_type": "markdown",
   "metadata": {},
   "source": [
    "* $H_0: \\mu_C = \\mu_P$\n",
    "* $H_A: \\mu_C \\ne \\mu_P$"
   ]
  },
  {
   "cell_type": "code",
   "execution_count": 85,
   "metadata": {},
   "outputs": [
    {
     "data": {
      "text/plain": [
       "TtestResult(statistic=-0.4140944939853426, pvalue=0.681567462952498, df=32.0)"
      ]
     },
     "execution_count": 85,
     "metadata": {},
     "output_type": "execute_result"
    }
   ],
   "source": [
    "stats.ttest_ind(df['Commutator'], df['Pinion'], alternative='two-sided')"
   ]
  },
  {
   "cell_type": "markdown",
   "metadata": {},
   "source": [
    "## 6) Survey Response Rate\n",
    "\n",
    "It is thought that the front cover and the nature of the first question on mail surveys influence the response rate.\n",
    "The article “The Impact of Cover Design and First Questions on Response Rates for a Mail Survey of Skydivers” (Leisure Sciences, 1991: 67–76) tested this theory by experimenting with different cover designs.\n",
    "One cover was plain; the other used a picture of a skydiver.\n",
    "The researchers speculated that the return rate would be lower for the plain cover.\n",
    "\n",
    "| Cover    | Number Sent | Number Returned |\n",
    "|----------|-------------|-----------------|\n",
    "| Plain    | 207 | 104 |\n",
    "| Skydiver | 213 | 109 |\n",
    "\n",
    "**Does this data support the researchers’ hypothesis?**\n",
    "\n",
    "* Write the relevant hypotheses, select the applicable test and write the relevant Python code.\n",
    "* Mark your decision regarding the Null-hypothesis ($\\alpha = .05$) and write a conclusion with regard to the original question.\n",
    "* Which type of error could have you made with your decision?"
   ]
  },
  {
   "cell_type": "markdown",
   "metadata": {},
   "source": [
    "* $H_0: \\pi_P \\geq \\pi_S$\n",
    "* $H_A: \\pi_P < \\pi_S$"
   ]
  },
  {
   "cell_type": "code",
   "execution_count": 86,
   "metadata": {},
   "outputs": [
    {
     "data": {
      "text/plain": [
       "(-0.19103657276130578, 0.42424846993179954)"
      ]
     },
     "execution_count": 86,
     "metadata": {},
     "output_type": "execute_result"
    }
   ],
   "source": [
    "proportions_ztest(count=[104, 109], nobs=[207, 213], alternative='smaller')"
   ]
  },
  {
   "attachments": {},
   "cell_type": "markdown",
   "metadata": {
    "slideshow": {
     "slide_type": "slide"
    }
   },
   "source": [
    "## 7) Flame Time\n",
    "\n",
    "The accompanying observations on residual flame time (sec) for strips of treated children’s nightwear were given in the article “An Introduction to Some Precision and Accuracy of Measurement Problems” (J. of Testing and Eval., 1982: 132–140).\n",
    "Suppose a true average flame time of at most 9.75 had been mandated. (Data: ex08.70)\n",
    "\n",
    "**Does the data suggest that this condition has not been met?**\n",
    "\n",
    "* Write the relevant hypotheses, select the applicable test and write the relevant Python code.\n",
    "* Mark your decision regarding the Null-hypothesis ($\\alpha = .05$) and write a conclusion with regard to the original question.\n",
    "* Which type of error could have you made with your decision?"
   ]
  },
  {
   "cell_type": "code",
   "execution_count": 87,
   "metadata": {},
   "outputs": [
    {
     "data": {
      "text/html": [
       "<div>\n",
       "<style scoped>\n",
       "    .dataframe tbody tr th:only-of-type {\n",
       "        vertical-align: middle;\n",
       "    }\n",
       "\n",
       "    .dataframe tbody tr th {\n",
       "        vertical-align: top;\n",
       "    }\n",
       "\n",
       "    .dataframe thead th {\n",
       "        text-align: right;\n",
       "    }\n",
       "</style>\n",
       "<table border=\"1\" class=\"dataframe\">\n",
       "  <thead>\n",
       "    <tr style=\"text-align: right;\">\n",
       "      <th></th>\n",
       "      <th>time</th>\n",
       "    </tr>\n",
       "    <tr>\n",
       "      <th>rownames</th>\n",
       "      <th></th>\n",
       "    </tr>\n",
       "  </thead>\n",
       "  <tbody>\n",
       "    <tr>\n",
       "      <th>1</th>\n",
       "      <td>9.85</td>\n",
       "    </tr>\n",
       "    <tr>\n",
       "      <th>2</th>\n",
       "      <td>9.93</td>\n",
       "    </tr>\n",
       "    <tr>\n",
       "      <th>3</th>\n",
       "      <td>9.75</td>\n",
       "    </tr>\n",
       "    <tr>\n",
       "      <th>4</th>\n",
       "      <td>9.77</td>\n",
       "    </tr>\n",
       "    <tr>\n",
       "      <th>5</th>\n",
       "      <td>9.67</td>\n",
       "    </tr>\n",
       "  </tbody>\n",
       "</table>\n",
       "</div>"
      ],
      "text/plain": [
       "          time\n",
       "rownames      \n",
       "1         9.85\n",
       "2         9.93\n",
       "3         9.75\n",
       "4         9.77\n",
       "5         9.67"
      ]
     },
     "execution_count": 87,
     "metadata": {},
     "output_type": "execute_result"
    }
   ],
   "source": [
    "df = read_r('../data/devore7/ex08.70.rda')['ex08.70']\n",
    "df.head()"
   ]
  },
  {
   "cell_type": "markdown",
   "metadata": {},
   "source": [
    "* $H_0: \\mu \\leq 9.75$\n",
    "* $H_A: \\mu > 9.75$"
   ]
  },
  {
   "cell_type": "code",
   "execution_count": 88,
   "metadata": {},
   "outputs": [
    {
     "data": {
      "text/plain": [
       "TtestResult(statistic=4.7523152326745155, pvalue=6.928587717491128e-05, df=19)"
      ]
     },
     "execution_count": 88,
     "metadata": {},
     "output_type": "execute_result"
    }
   ],
   "source": [
    "stats.ttest_1samp(df['time'], popmean=9.75, alternative='greater')"
   ]
  },
  {
   "cell_type": "markdown",
   "metadata": {},
   "source": [
    "## 1) Cement Mortar\n",
    "\n",
    "An experiment to compare the tension bond strength of polymer latex modified mortar (Portland cement mortar to which polymer latex emulsions have been added during mixing) to that of unmodified mortar resulted in \n",
    "\n",
    "Generate similar data by:"
   ]
  },
  {
   "cell_type": "code",
   "execution_count": 89,
   "metadata": {},
   "outputs": [],
   "source": [
    "unmodified = stats.norm.rvs(size=32, loc=16.8, scale=1.4, random_state=42)\n",
    "modified = stats.norm.rvs(size=40, loc=18, scale=1.6, random_state=42)"
   ]
  },
  {
   "cell_type": "markdown",
   "metadata": {},
   "source": [
    "Assume that the bond strength distributions are both normal.\n",
    "\n",
    "**Does the data provide compelling evidence to conclude that the modified mortar on average has a higher bond strength than the unmodified mortar?**\n",
    "\n",
    "* Write the relevant hypotheses, select the applicable test and write the relevant Python code.\n",
    "* Mark your decision regarding the Null-hypothesis ($\\alpha = .01$) and write a conclusion with regard to the original question.\n",
    "* Which type of error could have you made with your decision?"
   ]
  },
  {
   "cell_type": "markdown",
   "metadata": {},
   "source": [
    "* $H_0: \\mu_{mod} \\leq \\mu_{unmod}$\n",
    "* $H_A: \\mu_{mod} > \\mu_{unmod}$"
   ]
  },
  {
   "cell_type": "code",
   "execution_count": 90,
   "metadata": {},
   "outputs": [
    {
     "data": {
      "text/plain": [
       "TtestResult(statistic=3.0536735228662875, pvalue=0.0015977456674382724, df=70.0)"
      ]
     },
     "execution_count": 90,
     "metadata": {},
     "output_type": "execute_result"
    }
   ],
   "source": [
    "stats.ttest_ind(modified, unmodified, alternative='greater')"
   ]
  },
  {
   "cell_type": "markdown",
   "metadata": {},
   "source": [
    "## 7) Arsenic in Water\n",
    "\n",
    "Arsenic is a known carcinogen and poison.\n",
    "The standard laboratory procedures for measuring arsenic concentration (μg/L) in water are expensive.\n",
    "A new relatively quick and inexpensive field laboratory method has been introduced.\n",
    "See the article “Evaluation of a New Field Measurement Method for Arsenic in Drinking Water Samples,” J. of Envir. Engr., 2008: 382–388).\n",
    "Suppose the arsenic concentration was measured with two methods.\n",
    "\n",
    "Generate exercise data by"
   ]
  },
  {
   "cell_type": "code",
   "execution_count": 91,
   "metadata": {},
   "outputs": [],
   "source": [
    "method1 = stats.norm.rvs(size=20, loc=19.70, scale=1.1)\n",
    "method2 = stats.norm.rvs(size=20, loc=19.70, scale=1.1)"
   ]
  },
  {
   "cell_type": "markdown",
   "metadata": {},
   "source": [
    "**Is there a significant difference between the means of arsenic concentration measured by method1 and method2?**\n",
    "\n",
    "* Write the relevant hypotheses, select the applicable test and write the relevant Python code.\n",
    "* Mark your decision regarding the Null-hypothesis ($\\alpha = .05$) and write a conclusion with regard to the original question.\n",
    "* Which type of error could have you made with your decision?\n",
    "\n",
    "**Extra:** Is this an appropriate way of comparing the two methods?"
   ]
  },
  {
   "cell_type": "markdown",
   "metadata": {},
   "source": [
    "* $H_0: \\mu_1 = \\mu_2$\n",
    "* $H_A: \\mu_1 \\ne \\mu_2$"
   ]
  },
  {
   "cell_type": "code",
   "execution_count": 92,
   "metadata": {},
   "outputs": [
    {
     "data": {
      "text/plain": [
       "TtestResult(statistic=0.0, pvalue=1.0, df=38.0)"
      ]
     },
     "execution_count": 92,
     "metadata": {},
     "output_type": "execute_result"
    }
   ],
   "source": [
    "# TODO\n",
    "stats.ttest_ind(method1, method1, alternative='two-sided')"
   ]
  },
  {
   "cell_type": "markdown",
   "metadata": {},
   "source": [
    "No, this is **not** an appropriate way of comparing the methods.\n",
    "A valid comparision would require testing the pairwise difference instead of the difference of the means, i.e.\n",
    "\n",
    "* $H_0: \\mu_{diff} = 0$\n",
    "* $H_A: \\mu_{diff} \\ne 0$"
   ]
  }
 ],
 "metadata": {
  "kernelspec": {
   "display_name": "Python 3",
   "language": "python",
   "name": "python3"
  },
  "language_info": {
   "codemirror_mode": {
    "name": "ipython",
    "version": 3
   },
   "file_extension": ".py",
   "mimetype": "text/x-python",
   "name": "python",
   "nbconvert_exporter": "python",
   "pygments_lexer": "ipython3",
   "version": "3.10.12"
  },
  "orig_nbformat": 4,
  "vscode": {
   "interpreter": {
    "hash": "767d51c1340bd893661ea55ea3124f6de3c7a262a8b4abca0554b478b1e2ff90"
   }
  }
 },
 "nbformat": 4,
 "nbformat_minor": 2
}
