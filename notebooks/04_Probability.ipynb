{
 "cells": [
  {
   "cell_type": "markdown",
   "metadata": {},
   "source": [
    "# Probability"
   ]
  },
  {
   "cell_type": "markdown",
   "metadata": {},
   "source": [
    "Simulate flipping a coin and rolling a die:"
   ]
  },
  {
   "cell_type": "code",
   "execution_count": null,
   "metadata": {},
   "outputs": [],
   "source": [
    "from random import randint\n",
    "\n",
    "def flip_coin():\n",
    "    return 'H' if randint(0, 1) else 'T'\n",
    "\n",
    "def flip_coins(n:int=1):\n",
    "    return tuple( flip_coin() for i in range(0, n) )\n",
    "\n",
    "def roll_dice(n:int=1):\n",
    "    return tuple( randint(1, 6) for i in range(0, n) )"
   ]
  },
  {
   "cell_type": "code",
   "execution_count": null,
   "metadata": {},
   "outputs": [],
   "source": [
    "roll_dice(n=2)"
   ]
  },
  {
   "cell_type": "markdown",
   "metadata": {},
   "source": [
    "Repeat above random experiments multiple times and collect the results in a `DataFrame`:"
   ]
  },
  {
   "cell_type": "code",
   "execution_count": null,
   "metadata": {},
   "outputs": [],
   "source": [
    "import pandas as pd\n",
    "\n",
    "def experiment_flip_coins(n:int=1, m:int=1):\n",
    "    '''\n",
    "    n -- number of coins to flip (default 1)\n",
    "    m -- number of times to flip the coins (default 1)\n",
    "    '''\n",
    "    data = [ flip_coins(n) for i in range(0, m) ]\n",
    "    return pd.DataFrame(data)\n",
    "\n",
    "def experiment_roll_dice(n:int=1, m:int=1):\n",
    "    '''\n",
    "    n -- number of dice to roll (default 1)\n",
    "    m -- number of times to roll the dice (default 1)\n",
    "    '''\n",
    "    data = [ roll_dice(n) for i in range(0, m) ]\n",
    "    return pd.DataFrame(data)"
   ]
  },
  {
   "cell_type": "code",
   "execution_count": null,
   "metadata": {},
   "outputs": [],
   "source": [
    "df = experiment_roll_dice(2, 10)\n",
    "df"
   ]
  },
  {
   "cell_type": "markdown",
   "metadata": {},
   "source": [
    "**Exercise:** Law of large numbers\n",
    "\n",
    "1. Roll a single die one time, ten times, 100 times and 1000.\n",
    "2. Calculate the relative frequencies for each experiment\n",
    "3. Observe how the distribution changes as the number of repetitions grows."
   ]
  },
  {
   "cell_type": "code",
   "execution_count": null,
   "metadata": {},
   "outputs": [],
   "source": [
    "# TODO"
   ]
  },
  {
   "cell_type": "markdown",
   "metadata": {},
   "source": [
    "Simulate drawing playing cards from a 52-card deck:"
   ]
  },
  {
   "cell_type": "code",
   "execution_count": null,
   "metadata": {},
   "outputs": [],
   "source": [
    "from collections import namedtuple\n",
    "\n",
    "Card = namedtuple('Card', ['suit', 'rank'])\n",
    "\n",
    "SUITS = [ 'C', 'H', 'S', 'D' ]\n",
    "RANKS = [ '2', '3', '4', '5', '6', '7', '8', '9', '10', 'J', 'Q', 'K', 'A' ]\n",
    "\n",
    "def card_deck():\n",
    "    return [ Card(suit, rank) for suit in SUITS for rank in RANKS ]\n",
    "\n",
    "def draw_card(deck, replace:bool=True):\n",
    "    pos = randint(0, len(deck) - 1)\n",
    "    return deck[pos] if replace else deck.pop(pos)\n",
    "\n",
    "def draw_cards(deck, n:int=1, replace:bool=True):\n",
    "    return tuple( draw_card(deck, replace=replace) for i in range(0, n) )"
   ]
  },
  {
   "cell_type": "markdown",
   "metadata": {},
   "source": [
    "Repeat above random experiment multiple times and collect the results in a `DataFrame`:"
   ]
  },
  {
   "cell_type": "code",
   "execution_count": null,
   "metadata": {},
   "outputs": [],
   "source": [
    "import pandas as pd\n",
    "\n",
    "def experiment_draw_cards(n:int=1, m:int=1, replace:bool=True):\n",
    "    '''\n",
    "    n -- number of cards to draw (default 1)\n",
    "    m -- number of times to draw the cards (default 1)\n",
    "    replace -- whether to replace the drawn card\n",
    "    '''\n",
    "    data = [ draw_cards(card_deck(), n=n, replace=replace) for i in range(0, m) ]\n",
    "    return pd.DataFrame(data)"
   ]
  },
  {
   "cell_type": "markdown",
   "metadata": {},
   "source": [
    "**Exercise:**\n",
    "\n",
    "1. Draw a single card from a deck of cards. Repeat 1000 times.\n",
    "2. Create new columns `suit` and `rank` denoting the suit and rank of the card drawn.\n",
    "3. Calculate relative frequencies for suit and rank."
   ]
  },
  {
   "cell_type": "code",
   "execution_count": null,
   "metadata": {},
   "outputs": [],
   "source": [
    "df = ... # TODO\n",
    "df['suit'] = df[0].map(lambda card: card.suit)\n",
    "df['rank'] = ... # TODO\n",
    "df"
   ]
  },
  {
   "cell_type": "markdown",
   "metadata": {},
   "source": [
    "**Exercise:** Joint probabilities\n",
    "\n",
    "1. Write a function to determine whether a card is a (red card or Jack) or not. The function should return `True` if the card is a red card or a Jack, otherwise `False`.\n",
    "2. Create a new `DataFrame` containing a full 52-card deck of cards.\n",
    "3. Create three new columns: `red`, `jack`, `red_or_jack`.\n",
    "4. Use `pd.crosstab` to determine the absolute and relative frequencies.\n",
    "5. Create a new `DataFrame` by randomly drawing a single card 100, 1000 and 10000 times and compare the relative frequencies."
   ]
  },
  {
   "cell_type": "code",
   "execution_count": null,
   "metadata": {},
   "outputs": [],
   "source": [
    "def is_red_or_jack(card):\n",
    "    return False # TODO\n",
    "\n",
    "df = ... # TODO\n",
    "\n",
    "df['red'] = df['suit'].map(lambda suit: suit in ['H', 'D'])\n",
    "df['jack'] = ... # TODO\n",
    "df['jack_or_red'] = df['red'] | df['jack']\n",
    "\n",
    "pd.crosstab(df['jack'], df['red'], normalize=True)"
   ]
  },
  {
   "cell_type": "code",
   "execution_count": null,
   "metadata": {},
   "outputs": [],
   "source": [
    "df = ... # TODO\n",
    "\n",
    "... # TODO\n",
    "\n",
    "pd.crosstab(...) # TODO"
   ]
  },
  {
   "cell_type": "markdown",
   "metadata": {},
   "source": [
    "**Exercise:** Conditional probability\n",
    "\n",
    "1. Draw two cards with replacement. Repeat 10000 times.\n",
    "2. Draw two cards without replacement. Repeat 10000 times.\n",
    "3. For both data sets, calculate the proportion of rows, where the first card is an Ace.\n",
    "4. For both data sets, calculate the proportion of rows, where both cards are Aces.\n",
    "5. Compare the respective proportions between data sets."
   ]
  },
  {
   "cell_type": "markdown",
   "metadata": {},
   "source": [
    "**Exercise:** Random variables\n",
    "\n",
    "1. Write a function to calculate the winning for a given card.\n",
    "2. Draw a single card 1000 times.\n",
    "2. Create a new column containing the winnings for each row.\n",
    "3. Use the data to estimate the expected winning for the game."
   ]
  },
  {
   "cell_type": "code",
   "execution_count": null,
   "metadata": {},
   "outputs": [],
   "source": [
    "def winning(card):\n",
    "    return 0 # TODO\n",
    "\n",
    "df = ... # TODO\n",
    "\n",
    "df['winning'] = ... # TODO\n",
    "\n",
    "expected = ... # TODO\n",
    "\n",
    "expected"
   ]
  }
 ],
 "metadata": {
  "kernelspec": {
   "display_name": ".venv",
   "language": "python",
   "name": "python3"
  },
  "language_info": {
   "codemirror_mode": {
    "name": "ipython",
    "version": 3
   },
   "file_extension": ".py",
   "mimetype": "text/x-python",
   "name": "python",
   "nbconvert_exporter": "python",
   "pygments_lexer": "ipython3",
   "version": "3.10.12"
  }
 },
 "nbformat": 4,
 "nbformat_minor": 2
}
