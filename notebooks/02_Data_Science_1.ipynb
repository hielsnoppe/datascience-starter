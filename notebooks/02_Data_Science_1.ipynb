{
 "cells": [
  {
   "cell_type": "markdown",
   "metadata": {},
   "source": [
    "# Python for Data Science I"
   ]
  },
  {
   "cell_type": "markdown",
   "metadata": {},
   "source": [
    "## Pandas"
   ]
  },
  {
   "cell_type": "code",
   "execution_count": null,
   "metadata": {},
   "outputs": [],
   "source": [
    "import pandas as pd"
   ]
  },
  {
   "cell_type": "markdown",
   "metadata": {},
   "source": [
    "## Series"
   ]
  },
  {
   "cell_type": "code",
   "execution_count": null,
   "metadata": {},
   "outputs": [],
   "source": []
  },
  {
   "cell_type": "markdown",
   "metadata": {},
   "source": [
    "## DataFrames"
   ]
  },
  {
   "cell_type": "code",
   "execution_count": null,
   "metadata": {},
   "outputs": [],
   "source": []
  },
  {
   "cell_type": "markdown",
   "metadata": {},
   "source": [
    "Exercise:"
   ]
  },
  {
   "cell_type": "code",
   "execution_count": 1,
   "metadata": {},
   "outputs": [
    {
     "data": {
      "text/html": [
       "<div>\n",
       "<style scoped>\n",
       "    .dataframe tbody tr th:only-of-type {\n",
       "        vertical-align: middle;\n",
       "    }\n",
       "\n",
       "    .dataframe tbody tr th {\n",
       "        vertical-align: top;\n",
       "    }\n",
       "\n",
       "    .dataframe thead th {\n",
       "        text-align: right;\n",
       "    }\n",
       "</style>\n",
       "<table border=\"1\" class=\"dataframe\">\n",
       "  <thead>\n",
       "    <tr style=\"text-align: right;\">\n",
       "      <th></th>\n",
       "      <th>Timestamp</th>\n",
       "      <th>How old are you? (Full years)</th>\n",
       "      <th>Which gender do you identify with?</th>\n",
       "      <th>What month were you born in?</th>\n",
       "      <th>Which semester are you studying in?</th>\n",
       "      <th>Which operating system do you use?</th>\n",
       "      <th>What was your Python experience BEFORE the course?</th>\n",
       "      <th>What was your statistics knowledge BEFORE the course?</th>\n",
       "      <th>How long is your daily commute to university? (Estimate one-way in minutes)</th>\n",
       "      <th>Do you prefer online or in-person lectures?</th>\n",
       "      <th>Do you prefer a continuous project or isolated exercises?</th>\n",
       "    </tr>\n",
       "  </thead>\n",
       "  <tbody>\n",
       "    <tr>\n",
       "      <th>0</th>\n",
       "      <td>5/14/2024 7:46:13</td>\n",
       "      <td>21</td>\n",
       "      <td>Male</td>\n",
       "      <td>October</td>\n",
       "      <td>1</td>\n",
       "      <td>Windows</td>\n",
       "      <td>Had Python installed and played with it (basic...</td>\n",
       "      <td>Knew some basic concepts (statistical paramete...</td>\n",
       "      <td>45</td>\n",
       "      <td>5</td>\n",
       "      <td>2</td>\n",
       "    </tr>\n",
       "    <tr>\n",
       "      <th>1</th>\n",
       "      <td>5/14/2024 7:46:21</td>\n",
       "      <td>27</td>\n",
       "      <td>Diverse</td>\n",
       "      <td>May</td>\n",
       "      <td>1</td>\n",
       "      <td>Windows</td>\n",
       "      <td>Had Python installed and played with it (basic...</td>\n",
       "      <td>Knew some basic concepts (statistical paramete...</td>\n",
       "      <td>90</td>\n",
       "      <td>5</td>\n",
       "      <td>1</td>\n",
       "    </tr>\n",
       "    <tr>\n",
       "      <th>2</th>\n",
       "      <td>5/14/2024 7:46:51</td>\n",
       "      <td>24</td>\n",
       "      <td>Male</td>\n",
       "      <td>July</td>\n",
       "      <td>1</td>\n",
       "      <td>Windows</td>\n",
       "      <td>No previous experience</td>\n",
       "      <td>No previous knowledge</td>\n",
       "      <td>40</td>\n",
       "      <td>5</td>\n",
       "      <td>3</td>\n",
       "    </tr>\n",
       "    <tr>\n",
       "      <th>3</th>\n",
       "      <td>5/14/2024 7:47:10</td>\n",
       "      <td>28</td>\n",
       "      <td>Male</td>\n",
       "      <td>December</td>\n",
       "      <td>1</td>\n",
       "      <td>Windows</td>\n",
       "      <td>Used Python in class or on personal projects</td>\n",
       "      <td>Knew most of the topics from the course</td>\n",
       "      <td>70</td>\n",
       "      <td>2</td>\n",
       "      <td>4</td>\n",
       "    </tr>\n",
       "    <tr>\n",
       "      <th>4</th>\n",
       "      <td>5/14/2024 7:47:49</td>\n",
       "      <td>24</td>\n",
       "      <td>Male</td>\n",
       "      <td>July</td>\n",
       "      <td>1</td>\n",
       "      <td>Windows</td>\n",
       "      <td>No previous experience</td>\n",
       "      <td>No previous knowledge</td>\n",
       "      <td>40</td>\n",
       "      <td>4</td>\n",
       "      <td>3</td>\n",
       "    </tr>\n",
       "  </tbody>\n",
       "</table>\n",
       "</div>"
      ],
      "text/plain": [
       "           Timestamp  How old are you? (Full years)  \\\n",
       "0  5/14/2024 7:46:13                             21   \n",
       "1  5/14/2024 7:46:21                             27   \n",
       "2  5/14/2024 7:46:51                             24   \n",
       "3  5/14/2024 7:47:10                             28   \n",
       "4  5/14/2024 7:47:49                             24   \n",
       "\n",
       "  Which gender do you identify with? What month were you born in?  \\\n",
       "0                               Male                      October   \n",
       "1                            Diverse                          May   \n",
       "2                               Male                         July   \n",
       "3                               Male                     December   \n",
       "4                               Male                         July   \n",
       "\n",
       "   Which semester are you studying in? Which operating system do you use?  \\\n",
       "0                                    1                            Windows   \n",
       "1                                    1                            Windows   \n",
       "2                                    1                            Windows   \n",
       "3                                    1                            Windows   \n",
       "4                                    1                            Windows   \n",
       "\n",
       "  What was your Python experience BEFORE the course?  \\\n",
       "0  Had Python installed and played with it (basic...   \n",
       "1  Had Python installed and played with it (basic...   \n",
       "2                             No previous experience   \n",
       "3       Used Python in class or on personal projects   \n",
       "4                             No previous experience   \n",
       "\n",
       "  What was your statistics knowledge BEFORE the course?  \\\n",
       "0  Knew some basic concepts (statistical paramete...      \n",
       "1  Knew some basic concepts (statistical paramete...      \n",
       "2                              No previous knowledge      \n",
       "3            Knew most of the topics from the course      \n",
       "4                              No previous knowledge      \n",
       "\n",
       "   How long is your daily commute to university? (Estimate one-way in minutes)  \\\n",
       "0                                                 45                             \n",
       "1                                                 90                             \n",
       "2                                                 40                             \n",
       "3                                                 70                             \n",
       "4                                                 40                             \n",
       "\n",
       "   Do you prefer online or in-person lectures?  \\\n",
       "0                                            5   \n",
       "1                                            5   \n",
       "2                                            5   \n",
       "3                                            2   \n",
       "4                                            4   \n",
       "\n",
       "   Do you prefer a continuous project or isolated exercises?  \n",
       "0                                                  2          \n",
       "1                                                  1          \n",
       "2                                                  3          \n",
       "3                                                  4          \n",
       "4                                                  3          "
      ]
     },
     "execution_count": 1,
     "metadata": {},
     "output_type": "execute_result"
    }
   ],
   "source": [
    "import pandas as pd\n",
    "import urllib.parse\n",
    "\n",
    "sheet_id = '1jUMAa75_psDoYlnhly6Rbevfs_VPdmYuCMvsdXGImPQ'\n",
    "sheet_name = 'Form Responses 1'\n",
    "\n",
    "def google_sheet_csv(id, name):\n",
    "    sheet = urllib.parse.quote_plus(name)\n",
    "    return f'https://docs.google.com/spreadsheets/d/{id}/gviz/tq?tqx=out:csv&sheet={sheet}'\n",
    "\n",
    "\n",
    "df = pd.read_csv(google_sheet_csv(sheet_id, sheet_name))\n",
    "\n",
    "df.head()"
   ]
  }
 ],
 "metadata": {
  "kernelspec": {
   "display_name": ".venv",
   "language": "python",
   "name": "python3"
  },
  "language_info": {
   "codemirror_mode": {
    "name": "ipython",
    "version": 3
   },
   "file_extension": ".py",
   "mimetype": "text/x-python",
   "name": "python",
   "nbconvert_exporter": "python",
   "pygments_lexer": "ipython3",
   "version": "3.10.12"
  }
 },
 "nbformat": 4,
 "nbformat_minor": 2
}
