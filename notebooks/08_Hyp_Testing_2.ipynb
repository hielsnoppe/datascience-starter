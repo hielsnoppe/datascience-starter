{
 "cells": [
  {
   "cell_type": "markdown",
   "metadata": {},
   "source": [
    "# Hypothesis Testing with Two Samples\n",
    "\n",
    "Example from the slides (pp. 20-29)"
   ]
  },
  {
   "cell_type": "code",
   "execution_count": 2,
   "metadata": {},
   "outputs": [],
   "source": [
    "import math\n",
    "from scipy import stats\n",
    "from statsmodels.stats.proportion \\\n",
    "    import proportion_confint, proportions_ztest"
   ]
  },
  {
   "cell_type": "code",
   "execution_count": 39,
   "metadata": {},
   "outputs": [
    {
     "data": {
      "text/plain": [
       "(1.959963984540054, 1.971956544249395)"
      ]
     },
     "execution_count": 39,
     "metadata": {},
     "output_type": "execute_result"
    }
   ],
   "source": [
    "z = stats.norm.ppf(1 - 0.05 / 2)\n",
    "t =    stats.t.ppf(1 - 0.05 / 2, df=200-1)\n",
    "z, t"
   ]
  },
  {
   "cell_type": "code",
   "execution_count": 31,
   "metadata": {},
   "outputs": [
    {
     "data": {
      "text/plain": [
       "(-0.8672739861520613, 0.3868364741993471)"
      ]
     },
     "execution_count": 31,
     "metadata": {},
     "output_type": "execute_result"
    }
   ],
   "source": [
    "x_bar = -0.545 # sample mean\n",
    "s = 8.887 # sample standard deviation\n",
    "n = 200 # sample size\n",
    "\n",
    "SE = s / math.sqrt(n) # standard error\n",
    "T = (x_bar - 0) / SE # T statistics\n",
    "pval = stats.t.cdf(T, df=n-1) * 2\n",
    "\n",
    "T, pval"
   ]
  },
  {
   "cell_type": "code",
   "execution_count": 40,
   "metadata": {},
   "outputs": [
    {
     "data": {
      "text/plain": [
       "(-1.784188922735067, 0.6941889227350669)"
      ]
     },
     "execution_count": 40,
     "metadata": {},
     "output_type": "execute_result"
    }
   ],
   "source": [
    "me = t * SE # margin of error\n",
    "(x_bar - me, x_bar + me)"
   ]
  },
  {
   "cell_type": "markdown",
   "metadata": {},
   "source": [
    "Loading R data files"
   ]
  },
  {
   "cell_type": "code",
   "execution_count": 42,
   "metadata": {},
   "outputs": [
    {
     "data": {
      "text/html": [
       "<div>\n",
       "<style scoped>\n",
       "    .dataframe tbody tr th:only-of-type {\n",
       "        vertical-align: middle;\n",
       "    }\n",
       "\n",
       "    .dataframe tbody tr th {\n",
       "        vertical-align: top;\n",
       "    }\n",
       "\n",
       "    .dataframe thead th {\n",
       "        text-align: right;\n",
       "    }\n",
       "</style>\n",
       "<table border=\"1\" class=\"dataframe\">\n",
       "  <thead>\n",
       "    <tr style=\"text-align: right;\">\n",
       "      <th></th>\n",
       "      <th>Motor</th>\n",
       "      <th>Commutator</th>\n",
       "      <th>Pinion</th>\n",
       "    </tr>\n",
       "    <tr>\n",
       "      <th>rownames</th>\n",
       "      <th></th>\n",
       "      <th></th>\n",
       "      <th></th>\n",
       "    </tr>\n",
       "  </thead>\n",
       "  <tbody>\n",
       "    <tr>\n",
       "      <th>1</th>\n",
       "      <td>1</td>\n",
       "      <td>211</td>\n",
       "      <td>226</td>\n",
       "    </tr>\n",
       "    <tr>\n",
       "      <th>2</th>\n",
       "      <td>2</td>\n",
       "      <td>273</td>\n",
       "      <td>278</td>\n",
       "    </tr>\n",
       "    <tr>\n",
       "      <th>3</th>\n",
       "      <td>3</td>\n",
       "      <td>305</td>\n",
       "      <td>259</td>\n",
       "    </tr>\n",
       "    <tr>\n",
       "      <th>4</th>\n",
       "      <td>4</td>\n",
       "      <td>258</td>\n",
       "      <td>244</td>\n",
       "    </tr>\n",
       "    <tr>\n",
       "      <th>5</th>\n",
       "      <td>5</td>\n",
       "      <td>270</td>\n",
       "      <td>273</td>\n",
       "    </tr>\n",
       "  </tbody>\n",
       "</table>\n",
       "</div>"
      ],
      "text/plain": [
       "          Motor  Commutator  Pinion\n",
       "rownames                           \n",
       "1             1         211     226\n",
       "2             2         273     278\n",
       "3             3         305     259\n",
       "4             4         258     244\n",
       "5             5         270     273"
      ]
     },
     "execution_count": 42,
     "metadata": {},
     "output_type": "execute_result"
    }
   ],
   "source": [
    "from pyreadr import read_r\n",
    "# Load data file, returns dictionary\n",
    "data = read_r('../data/devore7/ex09.72.rda')\n",
    "# Access DataFrame from data dictionary\n",
    "df = data['ex09.72']\n",
    "# Preview DataFrame\n",
    "df.head()"
   ]
  },
  {
   "cell_type": "code",
   "execution_count": 48,
   "metadata": {},
   "outputs": [
    {
     "data": {
      "text/html": [
       "<div>\n",
       "<style scoped>\n",
       "    .dataframe tbody tr th:only-of-type {\n",
       "        vertical-align: middle;\n",
       "    }\n",
       "\n",
       "    .dataframe tbody tr th {\n",
       "        vertical-align: top;\n",
       "    }\n",
       "\n",
       "    .dataframe thead th {\n",
       "        text-align: right;\n",
       "    }\n",
       "</style>\n",
       "<table border=\"1\" class=\"dataframe\">\n",
       "  <thead>\n",
       "    <tr style=\"text-align: right;\">\n",
       "      <th></th>\n",
       "      <th>Motor</th>\n",
       "      <th>Commutator</th>\n",
       "      <th>Pinion</th>\n",
       "      <th>diff</th>\n",
       "    </tr>\n",
       "    <tr>\n",
       "      <th>rownames</th>\n",
       "      <th></th>\n",
       "      <th></th>\n",
       "      <th></th>\n",
       "      <th></th>\n",
       "    </tr>\n",
       "  </thead>\n",
       "  <tbody>\n",
       "    <tr>\n",
       "      <th>1</th>\n",
       "      <td>1</td>\n",
       "      <td>211</td>\n",
       "      <td>226</td>\n",
       "      <td>-15</td>\n",
       "    </tr>\n",
       "    <tr>\n",
       "      <th>2</th>\n",
       "      <td>2</td>\n",
       "      <td>273</td>\n",
       "      <td>278</td>\n",
       "      <td>-5</td>\n",
       "    </tr>\n",
       "    <tr>\n",
       "      <th>3</th>\n",
       "      <td>3</td>\n",
       "      <td>305</td>\n",
       "      <td>259</td>\n",
       "      <td>46</td>\n",
       "    </tr>\n",
       "    <tr>\n",
       "      <th>4</th>\n",
       "      <td>4</td>\n",
       "      <td>258</td>\n",
       "      <td>244</td>\n",
       "      <td>14</td>\n",
       "    </tr>\n",
       "    <tr>\n",
       "      <th>5</th>\n",
       "      <td>5</td>\n",
       "      <td>270</td>\n",
       "      <td>273</td>\n",
       "      <td>-3</td>\n",
       "    </tr>\n",
       "  </tbody>\n",
       "</table>\n",
       "</div>"
      ],
      "text/plain": [
       "          Motor  Commutator  Pinion  diff\n",
       "rownames                                 \n",
       "1             1         211     226   -15\n",
       "2             2         273     278    -5\n",
       "3             3         305     259    46\n",
       "4             4         258     244    14\n",
       "5             5         270     273    -3"
      ]
     },
     "execution_count": 48,
     "metadata": {},
     "output_type": "execute_result"
    }
   ],
   "source": [
    "# Calculate pairwise difference between columns\n",
    "df['diff'] = df['Commutator'] - df['Pinion']\n",
    "# Preview DataFrame\n",
    "df.head()"
   ]
  },
  {
   "cell_type": "code",
   "execution_count": 54,
   "metadata": {},
   "outputs": [
    {
     "name": "stdout",
     "output_type": "stream",
     "text": [
      "Fail to reject H_0\n"
     ]
    },
    {
     "data": {
      "text/plain": [
       "(-0.4803482715528954, 0.6374813143997304)"
      ]
     },
     "execution_count": 54,
     "metadata": {},
     "output_type": "execute_result"
    }
   ],
   "source": [
    "from scipy import stats\n",
    "stat, pval = stats.ttest_1samp(df['diff'], popmean=0)\n",
    "\n",
    "if pval < 0.05:\n",
    "    print('Reject H_0')\n",
    "else:\n",
    "    print('Fail to reject H_0')\n",
    "\n",
    "stat, pval"
   ]
  },
  {
   "cell_type": "code",
   "execution_count": 58,
   "metadata": {},
   "outputs": [
    {
     "data": {
      "text/plain": [
       "(-1.9960083534755055, 1.9960083534755055)"
      ]
     },
     "execution_count": 58,
     "metadata": {},
     "output_type": "execute_result"
    }
   ],
   "source": [
    "n = df.size\n",
    "# \"standard\" T distribution:\n",
    "# centered at 0\n",
    "# standard deviation 1\n",
    "stats.t.interval(\n",
    "    0.95, # confidence level = 95%\n",
    "    df=n-1, # degrees of freedom = sample size - 1\n",
    "    )\n",
    "# T distribution adapted to data:\n",
    "# centered at sample mean (point estimate)\n",
    "# standard deviation = standard error\n",
    "stats.t.interval(\n",
    "    0.95, # confidence level = 95%\n",
    "    df=n-1, # degrees of freedom = sample size - 1\n",
    "    loc=df['diff'].mean(), # mean (point estimate) as center of interval\n",
    "    scale=df['diff'].sem() # standard error of the mean\n",
    "    )"
   ]
  },
  {
   "cell_type": "code",
   "execution_count": 53,
   "metadata": {},
   "outputs": [
    {
     "data": {
      "text/plain": [
       "TtestResult(statistic=-0.4803482715528954, pvalue=0.6374813143997304, df=16)"
      ]
     },
     "execution_count": 53,
     "metadata": {},
     "output_type": "execute_result"
    }
   ],
   "source": [
    "from scipy import stats\n",
    "stats.ttest_rel(df['Commutator'], df['Pinion'])"
   ]
  },
  {
   "cell_type": "code",
   "execution_count": 59,
   "metadata": {},
   "outputs": [
    {
     "data": {
      "text/plain": [
       "TtestResult(statistic=-0.4140944939853426, pvalue=0.681567462952498, df=32.0)"
      ]
     },
     "execution_count": 59,
     "metadata": {},
     "output_type": "execute_result"
    }
   ],
   "source": [
    "from scipy import stats\n",
    "stats.ttest_ind(df['Commutator'], df['Pinion'])"
   ]
  },
  {
   "cell_type": "code",
   "execution_count": null,
   "metadata": {},
   "outputs": [],
   "source": [
    "# Five methods for hypothesis testing:\n",
    "# One-sample proportions Z-test:\n",
    "proportions_ztest(count=6, nobs=10, value=0.5, alternative='two-sided')\n",
    "# Two-sample proportions Z-test:\n",
    "proportions_ztest(count=[6, 7], nobs=[11, 13], alternative='two-sided')\n",
    "# One-sample T-test:\n",
    "stats.ttest_1samp([1, 2, 3, 4, 5], popmean=3, alternative='two-sided')\n",
    "# Two-sample T-test (related/paired samples):\n",
    "stats.ttest_rel([1, 2, 3], [3, 2, 1], alternative='two-sided')\n",
    "# Two-sample T-test (independent samples):\n",
    "stats.ttest_ind([1, 2, 3], [5, 4, 3], alternative='two-sided')\n",
    "\n",
    "\n",
    "# Calculate confidence intervals with:\n",
    "proportion_confint\n",
    "stats.t.interval"
   ]
  },
  {
   "attachments": {},
   "cell_type": "markdown",
   "metadata": {
    "slideshow": {
     "slide_type": "slide"
    }
   },
   "source": [
    "# Hypothesis Testing Exercises"
   ]
  },
  {
   "attachments": {},
   "cell_type": "markdown",
   "metadata": {
    "slideshow": {
     "slide_type": "slide"
    }
   },
   "source": [
    "## 1) Radon Detectors\n",
    "\n",
    "A sample of 12 radon detectors of a certain type was selected, and each was exposed to 100 pCi/L of radon.\n",
    "The resulting readings were as follows. (Data ex08.32) \n",
    "\n",
    "Does this data suggest that the population mean reading under these conditions differs from 100?\n",
    "\n",
    "State and test the appropriate hypotheses using (α = .05). "
   ]
  },
  {
   "cell_type": "code",
   "execution_count": 8,
   "metadata": {},
   "outputs": [
    {
     "data": {
      "text/plain": [
       "TtestResult(statistic=-0.9213828271018268, pvalue=0.37661608746499975, df=11)"
      ]
     },
     "execution_count": 8,
     "metadata": {},
     "output_type": "execute_result"
    }
   ],
   "source": [
    "from pyreadr import read_r\n",
    "from scipy import stats\n",
    "\n",
    "data = read_r('../data/devore7/ex08.32.rda')\n",
    "df = data['ex08.32']\n",
    "\n",
    "# TODO"
   ]
  },
  {
   "cell_type": "markdown",
   "metadata": {},
   "source": [
    "## 8) Effect of Temperature\n",
    "\n",
    "An experiment to determine the effects of temperature on the survival of insect eggs was described in the article “Development Rates and a Temperature-Dependent Model of Pales Weevil” (Environ. Entomology, 1987: 956–962).\n",
    "At 11°C, 73 of 91 eggs survived to the next stage of development.\n",
    "At 30°C, 102 of 110 eggs survived.\n",
    "\n",
    "Do the results of this experiment suggest that the survival rate (proportion surviving in the population) is higher for 30°C temperature?\n",
    "Calculate the P-value and use it to test the appropriate hypotheses. (α = .05)"
   ]
  },
  {
   "cell_type": "code",
   "execution_count": 12,
   "metadata": {},
   "outputs": [
    {
     "data": {
      "text/plain": [
       "(2.630144568163633, 0.004267428251156687)"
      ]
     },
     "execution_count": 12,
     "metadata": {},
     "output_type": "execute_result"
    }
   ],
   "source": [
    "from statsmodels.stats.proportion import proportions_ztest\n",
    "\n",
    "# TODO"
   ]
  },
  {
   "cell_type": "markdown",
   "metadata": {},
   "source": [
    "## 6) Robots\n",
    "\n",
    "Scientists think that robots will play a crucial role in factories in the next several decades.\n",
    "Suppose that in an experiment to determine whether the use of robots to weave computer cables is feasible,\n",
    "a robot was used to assemble 500 cables.\n",
    "The cables were examined and there were 10 defectives.\n",
    "\n",
    "If human assemblers have a defect rate of .035 (3.5%),\n",
    "does this data support the hypothesis that the proportion of defectives is lower for robots than for humans?\n",
    "\n",
    "Use a α = .05 significance level. Determine the type of possible error."
   ]
  },
  {
   "attachments": {},
   "cell_type": "markdown",
   "metadata": {
    "slideshow": {
     "slide_type": "slide"
    }
   },
   "source": [
    "## 4) Drywall\n",
    "\n",
    "With domestic sources of building supplies running low several years ago, roughly 60,000 homes were built with imported Chinese drywall.\n",
    "According to the article “Report Links Chinese Drywall to Home Problems” (New York Times, Nov. 24, 2009),\n",
    "federal investigators identified a strong association between chemicals in the drywall and electrical problems,\n",
    "and there is also strong evidence of respiratory difficulties due to the emission of hydrogen sulfide gas.\n",
    "An extensive examination of 51 homes found that 41 had such problems.\n",
    "Suppose these 51 were randomly sampled from the population of all homes having Chinese drywall.\n",
    "\n",
    "1. Does the data provide strong evidence for concluding that more than 50% of all homes with Chinese drywall have electrical/environmental problems? Carry out a test of hypotheses using α = .01.\n",
    "2. Calculate a confidence interval using a confidence level of 99% for the percentage of all such homes that have electrical/environmental problems."
   ]
  },
  {
   "cell_type": "markdown",
   "metadata": {},
   "source": [
    "## 5) Sweetgum Lumber\n",
    "\n",
    "The article “Development of Novel Industrial Laminated Planks from Sweetgum Lumber” (J. of Bridge Engr., 2008: 64–66) described the manufacturing and testing of composite beams designed to add value to low-grade sweetgum lumber.\n",
    "The data set contains the modulus of elasticity obtained 1 minute after loading in a certain configuration and also 4 weeks after loading for the same lumber specimens. (Data: ex09.44)\n",
    "\n",
    "Calculate and interpret a 95%-confidence interval for the true average difference between 1-minute modulus and 4-week modulus. Is the difference significant? (α = .05)"
   ]
  },
  {
   "attachments": {},
   "cell_type": "markdown",
   "metadata": {
    "slideshow": {
     "slide_type": "slide"
    }
   },
   "source": [
    "## 3) Organic Matter in Soil\n",
    "\n",
    "A random sample of soil specimens was obtained, and the amount of organic matter (%) in the soil was determined for each specimen, resulting in the accompanying data (from “Engineering Properties of Soil,” Soil Science, 1998: 93–102). (Data: ex08.54)\n",
    "\n",
    "1. Calculate the sample mean, sample standard deviation, and (estimated) standard error of the mean.\n",
    "2. Does this data suggest that the true average percentage of organic matter in such soil is something other than 3%? Carry out a test of the appropriate hypotheses at significance level .10.\n",
    "3. Would your conclusion be different if α = .05 had been used?"
   ]
  },
  {
   "cell_type": "markdown",
   "metadata": {},
   "source": [
    "## 2) Food Contamination\n",
    "\n",
    "Recent incidents of food contamination have caused great concern among consumers.\n",
    "The article: “How Safe Is That Chicken?” (Consumer Reports, Jan. 2010: 19–23) reported that 35 of 80 randomly selected Perdue brand broilers tested positively for either campylobacter or salmonella (or both),\n",
    "the leading bacterial causes of food-borne disease,\n",
    "whereas 66 of 80 Tyson brand broilers tested positive.\n",
    "\n",
    "Does it appear that the true proportion of non-contaminated Perdue broilers differs from that for the Tyson brand?\n",
    "Carry out a test of hypotheses using a significance level .01."
   ]
  },
  {
   "attachments": {},
   "cell_type": "markdown",
   "metadata": {
    "slideshow": {
     "slide_type": "slide"
    }
   },
   "source": [
    "## 5) Soil Heat\n",
    "\n",
    "The article “Orchard Floor Management Utilizing Soil-Applied Coal Dust for Frost Protection” (Agri. and Forest Meteorology, 1988: 71–82) reports the following values for soil heat flux of eight plots covered with coal dust. (Data: ex08.66)\n",
    "The mean soil heat flux for plots covered only with grass is 29.0.\n",
    "\n",
    "Assuming that the heat-flux distribution is approximately normal,\n",
    "does the data suggest that the coal dust is effective in increasing the mean heat flux over that for grass?\n",
    "\n",
    "Test the appropriate hypotheses using α = .05. In reaching your conclusion, what type of error might you have committed? "
   ]
  },
  {
   "cell_type": "markdown",
   "metadata": {},
   "source": [
    "## 2) Batteries\n",
    "\n",
    "A manufacturer of nickel-hydrogen batteries randomly selects 100 nickel plates for test cells, cycles them a specified number of times, and determines that 14 of the plates have blistered. \n",
    "\n",
    "1. Does this provide compelling evidence for concluding that more than 10% of all plates blister under such circumstances? State and test the appropriate hypotheses using a significance level of α = .05.\n",
    "2. In reaching your conclusion, what type of error might you have committed?"
   ]
  },
  {
   "cell_type": "markdown",
   "metadata": {},
   "source": [
    "## 3) Bearings.\n",
    "\n",
    "The derailment of a freight train due to the catastrophic failure of a traction motor armature bearing provided the impetus for a study reported in the article “Locomotive Traction Motor Armature Bearing Life Study” (Lubrication Engr., Aug. 1997: 12–19).\n",
    "A sample of 17 high-mileage traction motors was selected,\n",
    "and the amount of cone penetration (mm/10) was determined both for the pinion bearing and for the commutator armature bearing, resulting in the given data (Data: ex09.72)\n",
    "\n",
    "Calculate a 95% confidence interval estimate of the population mean difference between penetration for the commutator armature bearing and penetration for the pinion bearing.\n",
    "\n",
    "Does the population mean penetration differ for the two types of bearings? (α = .05)"
   ]
  },
  {
   "cell_type": "markdown",
   "metadata": {},
   "source": [
    "## 6) Survey Response Rate\n",
    "\n",
    "It is thought that the front cover and the nature of the first question on mail surveys influence the response rate.\n",
    "The article “The Impact of Cover Design and First Questions on Response Rates for a Mail Survey of Skydivers” (Leisure Sciences, 1991: 67–76) tested this theory by experimenting with different cover designs.\n",
    "One cover was plain; the other used a picture of a skydiver.\n",
    "The researchers speculated that the return rate would be lower for the plain cover.\n",
    "\n",
    "| Cover    | Number Sent | Number Returned |\n",
    "|----------|-------------|-----------------|\n",
    "| Plain    | 207 | 104 |\n",
    "| Skydiver | 213 | 109 |\n",
    "\n",
    "Does this data support the researchers’ hypothesis? Test the relevant hypotheses using $\\alpha =.5$."
   ]
  },
  {
   "attachments": {},
   "cell_type": "markdown",
   "metadata": {
    "slideshow": {
     "slide_type": "slide"
    }
   },
   "source": [
    "## 7) Flame Time\n",
    "\n",
    "The accompanying observations on residual flame time (sec) for strips of treated children’s nightwear were given in the article “An Introduction to Some Precision and Accuracy of Measurement Problems” (J. of Testing and Eval., 1982: 132–140).\n",
    "Suppose a true average flame time of at most 9.75 had been mandated.\n",
    "\n",
    "Does the data suggest that this condition has not been met?\n",
    "Carry out an appropriate two tailed test using α = .05. (Data: ex08.70)"
   ]
  },
  {
   "cell_type": "markdown",
   "metadata": {},
   "source": [
    "## 1) Cement Mortar\n",
    "\n",
    "An experiment to compare the tension bond strength of polymer latex modified mortar (Portland cement mortar to which polymer latex emulsions have been added during mixing) to that of unmodified mortar resulted in \n",
    "\n",
    "Generate similar data by:"
   ]
  },
  {
   "cell_type": "code",
   "execution_count": null,
   "metadata": {},
   "outputs": [],
   "source": [
    "modified = stats.norm.rvs(size=40, loc=18, scale=1.6, random_state=42)\n",
    "unmodified = stats.norm.rvs(size=32, loc=16.8, scale=1.4, random_state=42)"
   ]
  },
  {
   "cell_type": "markdown",
   "metadata": {},
   "source": [
    "Assume that the bond strength distributions are both normal.\n",
    "\n",
    "1. State the appropriate hypotheses and test them at a significance level of .01.\n",
    "2. Interpret your test result and the possible test error type."
   ]
  },
  {
   "cell_type": "markdown",
   "metadata": {},
   "source": [
    "## 7) Arsenic in Water\n",
    "\n",
    "Arsenic is a known carcinogen and poison.\n",
    "The standard laboratory procedures for measuring arsenic concentration (μg/L) in water are expensive.\n",
    "A new relatively quick and inexpensive field laboratory method has been introduced.\n",
    "See the article “Evaluation of a New Field Measurement Method for Arsenic in Drinking Water Samples,” J. of Envir. Engr., 2008: 382–388).\n",
    "Suppose the arsenic concentration was measured with two methods.\n",
    "\n",
    "Generate exercise data by"
   ]
  },
  {
   "cell_type": "code",
   "execution_count": null,
   "metadata": {},
   "outputs": [],
   "source": [
    "method1 = stats.norm.rvs(size=20, loc=19.70, scale=1.1)\n",
    "method2 = stats.norm.rvs(size=20, loc=19.70, scale=1.1)"
   ]
  },
  {
   "cell_type": "markdown",
   "metadata": {},
   "source": [
    "1. Is there a significant difference between the means of arsenic concentration measured by method1 and method2? (α = .05)\n",
    "2. Is this an appropriate way of comparing the two methods?"
   ]
  },
  {
   "cell_type": "code",
   "execution_count": null,
   "metadata": {},
   "outputs": [],
   "source": [
    "# TODO"
   ]
  }
 ],
 "metadata": {
  "kernelspec": {
   "display_name": "Python 3",
   "language": "python",
   "name": "python3"
  },
  "language_info": {
   "codemirror_mode": {
    "name": "ipython",
    "version": 3
   },
   "file_extension": ".py",
   "mimetype": "text/x-python",
   "name": "python",
   "nbconvert_exporter": "python",
   "pygments_lexer": "ipython3",
   "version": "3.9.19"
  },
  "orig_nbformat": 4,
  "vscode": {
   "interpreter": {
    "hash": "767d51c1340bd893661ea55ea3124f6de3c7a262a8b4abca0554b478b1e2ff90"
   }
  }
 },
 "nbformat": 4,
 "nbformat_minor": 2
}
