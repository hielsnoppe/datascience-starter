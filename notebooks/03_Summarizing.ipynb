{
 "cells": [
  {
   "cell_type": "markdown",
   "metadata": {},
   "source": [
    "# Summarizing Data"
   ]
  },
  {
   "cell_type": "markdown",
   "metadata": {},
   "source": [
    "Recap: Downloading data from Google Sheets using Pandas"
   ]
  },
  {
   "cell_type": "code",
   "execution_count": 42,
   "metadata": {},
   "outputs": [
    {
     "data": {
      "text/html": [
       "<div>\n",
       "<style scoped>\n",
       "    .dataframe tbody tr th:only-of-type {\n",
       "        vertical-align: middle;\n",
       "    }\n",
       "\n",
       "    .dataframe tbody tr th {\n",
       "        vertical-align: top;\n",
       "    }\n",
       "\n",
       "    .dataframe thead th {\n",
       "        text-align: right;\n",
       "    }\n",
       "</style>\n",
       "<table border=\"1\" class=\"dataframe\">\n",
       "  <thead>\n",
       "    <tr style=\"text-align: right;\">\n",
       "      <th></th>\n",
       "      <th>Timestamp</th>\n",
       "      <th>How old are you? (Full years)</th>\n",
       "      <th>Which gender do you identify with?</th>\n",
       "      <th>What month were you born in?</th>\n",
       "      <th>Which semester are you studying in?</th>\n",
       "      <th>Which operating system do you use?</th>\n",
       "      <th>What was your Python experience BEFORE the course?</th>\n",
       "      <th>What was your statistics knowledge BEFORE the course?</th>\n",
       "      <th>How long is your daily commute to university? (Estimate one-way in minutes)</th>\n",
       "      <th>Do you prefer online or in-person lectures?</th>\n",
       "      <th>Do you prefer a continuous project or isolated exercises?</th>\n",
       "    </tr>\n",
       "  </thead>\n",
       "  <tbody>\n",
       "    <tr>\n",
       "      <th>0</th>\n",
       "      <td>5/14/2024 7:46:13</td>\n",
       "      <td>21</td>\n",
       "      <td>Male</td>\n",
       "      <td>October</td>\n",
       "      <td>1</td>\n",
       "      <td>Windows</td>\n",
       "      <td>Had Python installed and played with it (basic...</td>\n",
       "      <td>Knew some basic concepts (statistical paramete...</td>\n",
       "      <td>45</td>\n",
       "      <td>5</td>\n",
       "      <td>2</td>\n",
       "    </tr>\n",
       "    <tr>\n",
       "      <th>1</th>\n",
       "      <td>5/14/2024 7:46:21</td>\n",
       "      <td>27</td>\n",
       "      <td>Diverse</td>\n",
       "      <td>May</td>\n",
       "      <td>1</td>\n",
       "      <td>Windows</td>\n",
       "      <td>Had Python installed and played with it (basic...</td>\n",
       "      <td>Knew some basic concepts (statistical paramete...</td>\n",
       "      <td>90</td>\n",
       "      <td>5</td>\n",
       "      <td>1</td>\n",
       "    </tr>\n",
       "    <tr>\n",
       "      <th>2</th>\n",
       "      <td>5/14/2024 7:46:51</td>\n",
       "      <td>24</td>\n",
       "      <td>Male</td>\n",
       "      <td>July</td>\n",
       "      <td>1</td>\n",
       "      <td>Windows</td>\n",
       "      <td>No previous experience</td>\n",
       "      <td>No previous knowledge</td>\n",
       "      <td>40</td>\n",
       "      <td>5</td>\n",
       "      <td>3</td>\n",
       "    </tr>\n",
       "    <tr>\n",
       "      <th>3</th>\n",
       "      <td>5/14/2024 7:47:10</td>\n",
       "      <td>28</td>\n",
       "      <td>Male</td>\n",
       "      <td>December</td>\n",
       "      <td>1</td>\n",
       "      <td>Windows</td>\n",
       "      <td>Used Python in class or on personal projects</td>\n",
       "      <td>Knew most of the topics from the course</td>\n",
       "      <td>70</td>\n",
       "      <td>2</td>\n",
       "      <td>4</td>\n",
       "    </tr>\n",
       "    <tr>\n",
       "      <th>4</th>\n",
       "      <td>5/14/2024 7:47:49</td>\n",
       "      <td>24</td>\n",
       "      <td>Male</td>\n",
       "      <td>July</td>\n",
       "      <td>1</td>\n",
       "      <td>Windows</td>\n",
       "      <td>No previous experience</td>\n",
       "      <td>No previous knowledge</td>\n",
       "      <td>40</td>\n",
       "      <td>4</td>\n",
       "      <td>3</td>\n",
       "    </tr>\n",
       "  </tbody>\n",
       "</table>\n",
       "</div>"
      ],
      "text/plain": [
       "           Timestamp  How old are you? (Full years)  \\\n",
       "0  5/14/2024 7:46:13                             21   \n",
       "1  5/14/2024 7:46:21                             27   \n",
       "2  5/14/2024 7:46:51                             24   \n",
       "3  5/14/2024 7:47:10                             28   \n",
       "4  5/14/2024 7:47:49                             24   \n",
       "\n",
       "  Which gender do you identify with? What month were you born in?  \\\n",
       "0                               Male                      October   \n",
       "1                            Diverse                          May   \n",
       "2                               Male                         July   \n",
       "3                               Male                     December   \n",
       "4                               Male                         July   \n",
       "\n",
       "   Which semester are you studying in? Which operating system do you use?  \\\n",
       "0                                    1                            Windows   \n",
       "1                                    1                            Windows   \n",
       "2                                    1                            Windows   \n",
       "3                                    1                            Windows   \n",
       "4                                    1                            Windows   \n",
       "\n",
       "  What was your Python experience BEFORE the course?  \\\n",
       "0  Had Python installed and played with it (basic...   \n",
       "1  Had Python installed and played with it (basic...   \n",
       "2                             No previous experience   \n",
       "3       Used Python in class or on personal projects   \n",
       "4                             No previous experience   \n",
       "\n",
       "  What was your statistics knowledge BEFORE the course?  \\\n",
       "0  Knew some basic concepts (statistical paramete...      \n",
       "1  Knew some basic concepts (statistical paramete...      \n",
       "2                              No previous knowledge      \n",
       "3            Knew most of the topics from the course      \n",
       "4                              No previous knowledge      \n",
       "\n",
       "   How long is your daily commute to university? (Estimate one-way in minutes)  \\\n",
       "0                                                 45                             \n",
       "1                                                 90                             \n",
       "2                                                 40                             \n",
       "3                                                 70                             \n",
       "4                                                 40                             \n",
       "\n",
       "   Do you prefer online or in-person lectures?  \\\n",
       "0                                            5   \n",
       "1                                            5   \n",
       "2                                            5   \n",
       "3                                            2   \n",
       "4                                            4   \n",
       "\n",
       "   Do you prefer a continuous project or isolated exercises?  \n",
       "0                                                  2          \n",
       "1                                                  1          \n",
       "2                                                  3          \n",
       "3                                                  4          \n",
       "4                                                  3          "
      ]
     },
     "execution_count": 42,
     "metadata": {},
     "output_type": "execute_result"
    }
   ],
   "source": [
    "import pandas as pd\n",
    "import urllib.parse\n",
    "\n",
    "sheet_id = '1jUMAa75_psDoYlnhly6Rbevfs_VPdmYuCMvsdXGImPQ'\n",
    "sheet_name = 'Form Responses 1'\n",
    "\n",
    "def google_sheet_csv(id, name):\n",
    "    sheet = urllib.parse.quote_plus(name)\n",
    "    return f'https://docs.google.com/spreadsheets/d/{id}/gviz/tq?tqx=out:csv&sheet={sheet}'\n",
    "\n",
    "\n",
    "df = pd.read_csv(google_sheet_csv(sheet_id, sheet_name))\n",
    "\n",
    "df.head()"
   ]
  },
  {
   "cell_type": "markdown",
   "metadata": {},
   "source": [
    "## Frequencies and Proportions (relative frequencies)"
   ]
  },
  {
   "cell_type": "code",
   "execution_count": 43,
   "metadata": {},
   "outputs": [],
   "source": [
    "month = df['What month were you born in?']"
   ]
  },
  {
   "cell_type": "markdown",
   "metadata": {},
   "source": [
    "Find the value that appears most often (mode):"
   ]
  },
  {
   "cell_type": "code",
   "execution_count": 44,
   "metadata": {},
   "outputs": [
    {
     "data": {
      "text/plain": [
       "0    December\n",
       "Name: What month were you born in?, dtype: object"
      ]
     },
     "execution_count": 44,
     "metadata": {},
     "output_type": "execute_result"
    }
   ],
   "source": [
    "month.mode()"
   ]
  },
  {
   "cell_type": "markdown",
   "metadata": {},
   "source": [
    "Get a list of all unique values appearing in the data:"
   ]
  },
  {
   "cell_type": "code",
   "execution_count": 45,
   "metadata": {},
   "outputs": [
    {
     "data": {
      "text/plain": [
       "array(['October', 'May', 'July', 'December', 'November', 'June',\n",
       "       'February', 'September', 'March', 'January', 'August', 'April'],\n",
       "      dtype=object)"
      ]
     },
     "execution_count": 45,
     "metadata": {},
     "output_type": "execute_result"
    }
   ],
   "source": [
    "month.unique()"
   ]
  },
  {
   "cell_type": "markdown",
   "metadata": {},
   "source": [
    "Count how often each unique value appears:"
   ]
  },
  {
   "cell_type": "code",
   "execution_count": 46,
   "metadata": {},
   "outputs": [
    {
     "data": {
      "text/plain": [
       "What month were you born in?\n",
       "December     7\n",
       "March        5\n",
       "October      4\n",
       "June         4\n",
       "August       4\n",
       "May          3\n",
       "November     3\n",
       "February     3\n",
       "January      3\n",
       "July         2\n",
       "September    1\n",
       "April        1\n",
       "Name: count, dtype: int64"
      ]
     },
     "execution_count": 46,
     "metadata": {},
     "output_type": "execute_result"
    }
   ],
   "source": [
    "month.value_counts()"
   ]
  },
  {
   "cell_type": "markdown",
   "metadata": {},
   "source": [
    "Calculate realtive frequencies of all unique values:"
   ]
  },
  {
   "cell_type": "code",
   "execution_count": 47,
   "metadata": {},
   "outputs": [
    {
     "data": {
      "text/plain": [
       "What month were you born in?\n",
       "December     0.175\n",
       "March        0.125\n",
       "October      0.100\n",
       "June         0.100\n",
       "August       0.100\n",
       "May          0.075\n",
       "November     0.075\n",
       "February     0.075\n",
       "January      0.075\n",
       "July         0.050\n",
       "September    0.025\n",
       "April        0.025\n",
       "Name: proportion, dtype: float64"
      ]
     },
     "execution_count": 47,
     "metadata": {},
     "output_type": "execute_result"
    }
   ],
   "source": [
    "month.value_counts(normalize=True)"
   ]
  },
  {
   "cell_type": "code",
   "execution_count": 48,
   "metadata": {},
   "outputs": [
    {
     "data": {
      "text/plain": [
       "0.075"
      ]
     },
     "execution_count": 48,
     "metadata": {},
     "output_type": "execute_result"
    }
   ],
   "source": [
    "# Proportion of students born in May?\n",
    "proportions = month.value_counts(normalize=True)\n",
    "proportions['May']"
   ]
  },
  {
   "cell_type": "code",
   "execution_count": 49,
   "metadata": {},
   "outputs": [],
   "source": [
    "age = df['How old are you? (Full years)']"
   ]
  },
  {
   "cell_type": "markdown",
   "metadata": {},
   "source": [
    "Counting values"
   ]
  },
  {
   "cell_type": "code",
   "execution_count": 50,
   "metadata": {},
   "outputs": [
    {
     "data": {
      "text/plain": [
       "How old are you? (Full years)\n",
       "21    3\n",
       "22    7\n",
       "23    6\n",
       "24    7\n",
       "25    5\n",
       "26    4\n",
       "27    3\n",
       "28    3\n",
       "29    1\n",
       "44    1\n",
       "Name: count, dtype: int64"
      ]
     },
     "execution_count": 50,
     "metadata": {},
     "output_type": "execute_result"
    }
   ],
   "source": [
    "age.value_counts().sort_index()"
   ]
  },
  {
   "cell_type": "code",
   "execution_count": 51,
   "metadata": {},
   "outputs": [
    {
     "data": {
      "text/plain": [
       "(19.999, 25.0]    28\n",
       "(25.0, 30.0]      11\n",
       "(30.0, 35.0]       0\n",
       "(35.0, 40.0]       0\n",
       "(40.0, 45.0]       1\n",
       "Name: count, dtype: int64"
      ]
     },
     "execution_count": 51,
     "metadata": {},
     "output_type": "execute_result"
    }
   ],
   "source": [
    "age.value_counts(bins=[20, 25, 30, 35, 40, 45], normalize=False).sort_index()"
   ]
  },
  {
   "cell_type": "code",
   "execution_count": 52,
   "metadata": {},
   "outputs": [
    {
     "data": {
      "text/plain": [
       "<Axes: >"
      ]
     },
     "execution_count": 52,
     "metadata": {},
     "output_type": "execute_result"
    },
    {
     "data": {
      "image/png": "[encoded data removed]",
      "text/plain": [
       "<Figure size 640x480 with 1 Axes>"
      ]
     },
     "metadata": {},
     "output_type": "display_data"
    }
   ],
   "source": [
    "age.hist(bins=[20, 25.0001, 30, 35, 40, 45])\n",
    "age.hist()"
   ]
  },
  {
   "cell_type": "markdown",
   "metadata": {},
   "source": [
    "## Mean and median"
   ]
  },
  {
   "cell_type": "code",
   "execution_count": 53,
   "metadata": {},
   "outputs": [
    {
     "data": {
      "text/plain": [
       "(24.75, 24.0)"
      ]
     },
     "execution_count": 53,
     "metadata": {},
     "output_type": "execute_result"
    }
   ],
   "source": [
    "age.mean(), age.median()"
   ]
  },
  {
   "cell_type": "markdown",
   "metadata": {},
   "source": [
    "Exercise: Robustness of mean and median"
   ]
  },
  {
   "cell_type": "code",
   "execution_count": 54,
   "metadata": {},
   "outputs": [
    {
     "data": {
      "text/plain": [
       "(24.75, 24.0)"
      ]
     },
     "execution_count": 54,
     "metadata": {},
     "output_type": "execute_result"
    }
   ],
   "source": [
    "import numpy as np\n",
    "\n",
    "# Get a list from the Pandas Series\n",
    "ages = age.to_list()\n",
    "\n",
    "# TODO: Add the number 60 to the list\n",
    "# YOUR CODE HERE\n",
    "#ages.append(10000000000)\n",
    "\n",
    "# Calculate mean and median of the list\n",
    "np.mean(ages), np.median(ages)"
   ]
  },
  {
   "cell_type": "markdown",
   "metadata": {},
   "source": [
    "Repeat with other numbers than $60$. Also try with extreme values, e.g. negative numbers, large positve numbers, etc.. How are mean and median affected?"
   ]
  },
  {
   "cell_type": "markdown",
   "metadata": {},
   "source": [
    "Exercise: Variance"
   ]
  },
  {
   "cell_type": "code",
   "execution_count": 64,
   "metadata": {},
   "outputs": [
    {
     "data": {
      "text/plain": [
       "14.346153846153847"
      ]
     },
     "execution_count": 64,
     "metadata": {},
     "output_type": "execute_result"
    }
   ],
   "source": [
    "mean = np.mean(ages)\n",
    "\n",
    "dist = []\n",
    "abs_dist = []\n",
    "sqd_dist = []\n",
    "\n",
    "for age in ages:\n",
    "\n",
    "    # Calculate distance\n",
    "    dist.append(age - mean)\n",
    "\n",
    "    # Calculate absolute distance\n",
    "    abs_dist.append(abs(age - mean))\n",
    "\n",
    "    # Calculate squared distance\n",
    "    sqd_dist.append(pow(age - mean, 2))\n",
    "\n",
    "np.sum(dist) / (len(dist) - 1)"
   ]
  },
  {
   "cell_type": "code",
   "execution_count": 68,
   "metadata": {},
   "outputs": [
    {
     "data": {
      "text/plain": [
       "14.346153846153847"
      ]
     },
     "execution_count": 68,
     "metadata": {},
     "output_type": "execute_result"
    }
   ],
   "source": [
    "var = df['How old are you? (Full years)'].var()\n",
    "var"
   ]
  },
  {
   "cell_type": "code",
   "execution_count": 69,
   "metadata": {},
   "outputs": [
    {
     "data": {
      "text/plain": [
       "(3.787631693572363, 3.787631693572363)"
      ]
     },
     "execution_count": 69,
     "metadata": {},
     "output_type": "execute_result"
    }
   ],
   "source": [
    "import math\n",
    "\n",
    "std = df['How old are you? (Full years)'].std()\n",
    "\n",
    "std, math.sqrt(var)"
   ]
  },
  {
   "cell_type": "code",
   "execution_count": null,
   "metadata": {},
   "outputs": [],
   "source": [
    "mean = np.mean(ages)\n",
    "\n",
    "dist = []\n",
    "abs_dist = []\n",
    "sqd_dist = []\n",
    "\n",
    "for age in ages:\n",
    "\n",
    "    # Calculate distance\n",
    "    dist.append(age - mean)\n",
    "\n",
    "    # Calculate absolute distance\n",
    "    abs_dist.append(abs(age - mean))\n",
    "\n",
    "    # Calculate squared distance\n",
    "    sqd_dist.append(pow(age - mean, 2))"
   ]
  }
 ],
 "metadata": {
  "kernelspec": {
   "display_name": ".venv",
   "language": "python",
   "name": "python3"
  },
  "language_info": {
   "codemirror_mode": {
    "name": "ipython",
    "version": 3
   },
   "file_extension": ".py",
   "mimetype": "text/x-python",
   "name": "python",
   "nbconvert_exporter": "python",
   "pygments_lexer": "ipython3",
   "version": "3.10.12"
  }
 },
 "nbformat": 4,
 "nbformat_minor": 2
}
