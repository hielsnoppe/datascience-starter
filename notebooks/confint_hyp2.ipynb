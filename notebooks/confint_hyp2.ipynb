{
 "cells": [
  {
   "cell_type": "code",
   "execution_count": 1,
   "metadata": {},
   "outputs": [],
   "source": [
    "import math\n",
    "from pyreadr import read_r\n",
    "from scipy import stats\n",
    "from statsmodels.stats.proportion \\\n",
    "    import proportion_confint, proportions_ztest"
   ]
  },
  {
   "cell_type": "markdown",
   "metadata": {},
   "source": [
    "Loading R data files"
   ]
  },
  {
   "cell_type": "code",
   "execution_count": null,
   "metadata": {},
   "outputs": [],
   "source": [
    "data = read_r('../data/devore7/ex09.72.rda')\n",
    "df = data['ex09.72']"
   ]
  },
  {
   "attachments": {},
   "cell_type": "markdown",
   "metadata": {
    "slideshow": {
     "slide_type": "slide"
    }
   },
   "source": [
    "# Hypothesis Testing Exercises"
   ]
  },
  {
   "attachments": {},
   "cell_type": "markdown",
   "metadata": {
    "slideshow": {
     "slide_type": "slide"
    }
   },
   "source": [
    "## 1) Radon Detectors\n",
    "\n",
    "A sample of 12 radon detectors of a certain type was selected, and each was exposed to 100 pCi/L of radon.\n",
    "The resulting readings were as follows. (Data ex08.32) \n",
    "\n",
    "Does this data suggest that the population mean reading under these conditions differs from 100?\n",
    "\n",
    "State and test the appropriate hypotheses using (α = .05). "
   ]
  },
  {
   "cell_type": "markdown",
   "metadata": {},
   "source": [
    "## 8) Effect of Temperature\n",
    "\n",
    "An experiment to determine the effects of temperature on the survival of insect eggs was described in the article “Development Rates and a Temperature-Dependent Model of Pales Weevil” (Environ. Entomology, 1987: 956–962).\n",
    "At 11°C, 73 of 91 eggs survived to the next stage of development.\n",
    "At 30°C, 102 of 110 eggs survived.\n",
    "\n",
    "Do the results of this experiment suggest that the survival rate (proportion surviving in the population) is higher for 30°C temperature?\n",
    "Calculate the P-value and use it to test the appropriate hypotheses. (α = .05)"
   ]
  },
  {
   "cell_type": "markdown",
   "metadata": {},
   "source": [
    "## 6) Robots\n",
    "\n",
    "Scientists think that robots will play a crucial role in factories in the next several decades.\n",
    "Suppose that in an experiment to determine whether the use of robots to weave computer cables is feasible,\n",
    "a robot was used to assemble 500 cables.\n",
    "The cables were examined and there were 10 defectives.\n",
    "\n",
    "If human assemblers have a defect rate of .035 (3.5%),\n",
    "does this data support the hypothesis that the proportion of defectives is lower for robots than for humans?\n",
    "\n",
    "Use a α = .05 significance level. Determine the type of possible error."
   ]
  },
  {
   "attachments": {},
   "cell_type": "markdown",
   "metadata": {
    "slideshow": {
     "slide_type": "slide"
    }
   },
   "source": [
    "## 4) Drywall\n",
    "\n",
    "With domestic sources of building supplies running low several years ago, roughly 60,000 homes were built with imported Chinese drywall.\n",
    "According to the article “Report Links Chinese Drywall to Home Problems” (New York Times, Nov. 24, 2009),\n",
    "federal investigators identified a strong association between chemicals in the drywall and electrical problems,\n",
    "and there is also strong evidence of respiratory difficulties due to the emission of hydrogen sulfide gas.\n",
    "An extensive examination of 51 homes found that 41 had such problems.\n",
    "Suppose these 51 were randomly sampled from the population of all homes having Chinese drywall.\n",
    "\n",
    "1. Does the data provide strong evidence for concluding that more than 50% of all homes with Chinese drywall have electrical/environmental problems? Carry out a test of hypotheses using α = .01.\n",
    "2. Calculate a confidence interval using a confidence level of 99% for the percentage of all such homes that have electrical/environmental problems."
   ]
  },
  {
   "cell_type": "markdown",
   "metadata": {},
   "source": [
    "## 5) Sweetgum Lumber\n",
    "\n",
    "The article “Development of Novel Industrial Laminated Planks from Sweetgum Lumber” (J. of Bridge Engr., 2008: 64–66) described the manufacturing and testing of composite beams designed to add value to low-grade sweetgum lumber.\n",
    "The data set contains the modulus of elasticity obtained 1 minute after loading in a certain configuration and also 4 weeks after loading for the same lumber specimens. (Data: ex09.44)\n",
    "\n",
    "Calculate and interpret a 95%-confidence interval for the true average difference between 1-minute modulus and 4-week modulus. Is the difference significant? (α = .05)"
   ]
  },
  {
   "attachments": {},
   "cell_type": "markdown",
   "metadata": {
    "slideshow": {
     "slide_type": "slide"
    }
   },
   "source": [
    "## 3) Organic Matter in Soil\n",
    "\n",
    "A random sample of soil specimens was obtained, and the amount of organic matter (%) in the soil was determined for each specimen, resulting in the accompanying data (from “Engineering Properties of Soil,” Soil Science, 1998: 93–102). (Data: ex08.54)\n",
    "\n",
    "1. Calculate the sample mean, sample standard deviation, and (estimated) standard error of the mean.\n",
    "2. Does this data suggest that the true average percentage of organic matter in such soil is something other than 3%? Carry out a test of the appropriate hypotheses at significance level .10.\n",
    "3. Would your conclusion be different if α = .05 had been used?"
   ]
  },
  {
   "cell_type": "markdown",
   "metadata": {},
   "source": [
    "## 2) Food Contamination\n",
    "\n",
    "Recent incidents of food contamination have caused great concern among consumers.\n",
    "The article: “How Safe Is That Chicken?” (Consumer Reports, Jan. 2010: 19–23) reported that 35 of 80 randomly selected Perdue brand broilers tested positively for either campylobacter or salmonella (or both),\n",
    "the leading bacterial causes of food-borne disease,\n",
    "whereas 66 of 80 Tyson brand broilers tested positive.\n",
    "\n",
    "Does it appear that the true proportion of non-contaminated Perdue broilers differs from that for the Tyson brand?\n",
    "Carry out a test of hypotheses using a significance level .01."
   ]
  },
  {
   "attachments": {},
   "cell_type": "markdown",
   "metadata": {
    "slideshow": {
     "slide_type": "slide"
    }
   },
   "source": [
    "## 5) Soil Heat\n",
    "\n",
    "The article “Orchard Floor Management Utilizing Soil-Applied Coal Dust for Frost Protection” (Agri. and Forest Meteorology, 1988: 71–82) reports the following values for soil heat flux of eight plots covered with coal dust. (Data: ex08.66)\n",
    "The mean soil heat flux for plots covered only with grass is 29.0.\n",
    "\n",
    "Assuming that the heat-flux distribution is approximately normal,\n",
    "does the data suggest that the coal dust is effective in increasing the mean heat flux over that for grass?\n",
    "\n",
    "Test the appropriate hypotheses using α = .05. In reaching your conclusion, what type of error might you have committed? "
   ]
  },
  {
   "cell_type": "markdown",
   "metadata": {},
   "source": [
    "## 2) Batteries\n",
    "\n",
    "A manufacturer of nickel-hydrogen batteries randomly selects 100 nickel plates for test cells, cycles them a specified number of times, and determines that 14 of the plates have blistered. \n",
    "\n",
    "1. Does this provide compelling evidence for concluding that more than 10% of all plates blister under such circumstances? State and test the appropriate hypotheses using a significance level of α = .05.\n",
    "2. In reaching your conclusion, what type of error might you have committed?"
   ]
  },
  {
   "cell_type": "markdown",
   "metadata": {},
   "source": [
    "## 3) Bearings.\n",
    "\n",
    "The derailment of a freight train due to the catastrophic failure of a traction motor armature bearing provided the impetus for a study reported in the article “Locomotive Traction Motor Armature Bearing Life Study” (Lubrication Engr., Aug. 1997: 12–19).\n",
    "A sample of 17 high-mileage traction motors was selected,\n",
    "and the amount of cone penetration (mm/10) was determined both for the pinion bearing and for the commutator armature bearing, resulting in the given data (Data: ex09.72)\n",
    "\n",
    "Calculate a 95% confidence interval estimate of the population mean difference between penetration for the commutator armature bearing and penetration for the pinion bearing.\n",
    "\n",
    "Does the population mean penetration differ for the two types of bearings? (α = .05)"
   ]
  },
  {
   "cell_type": "markdown",
   "metadata": {},
   "source": [
    "## 6) Survey Response Rate\n",
    "\n",
    "It is thought that the front cover and the nature of the first question on mail surveys influence the response rate.\n",
    "The article “The Impact of Cover Design and First Questions on Response Rates for a Mail Survey of Skydivers” (Leisure Sciences, 1991: 67–76) tested this theory by experimenting with different cover designs.\n",
    "One cover was plain; the other used a picture of a skydiver.\n",
    "The researchers speculated that the return rate would be lower for the plain cover.\n",
    "\n",
    "| Cover    | Number Sent | Number Returned |\n",
    "|----------|-------------|-----------------|\n",
    "| Plain    | 207 | 104 |\n",
    "| Skydiver | 213 | 109 |\n",
    "\n",
    "Does this data support the researchers’ hypothesis? Test the relevant hypotheses using $\\alpha =.5$."
   ]
  },
  {
   "attachments": {},
   "cell_type": "markdown",
   "metadata": {
    "slideshow": {
     "slide_type": "slide"
    }
   },
   "source": [
    "## 7) Flame Time\n",
    "\n",
    "The accompanying observations on residual flame time (sec) for strips of treated children’s nightwear were given in the article “An Introduction to Some Precision and Accuracy of Measurement Problems” (J. of Testing and Eval., 1982: 132–140).\n",
    "Suppose a true average flame time of at most 9.75 had been mandated.\n",
    "\n",
    "Does the data suggest that this condition has not been met?\n",
    "Carry out an appropriate two tailed test using α = .05. (Data: ex08.70)"
   ]
  },
  {
   "cell_type": "markdown",
   "metadata": {},
   "source": [
    "## 1) Cement Mortar\n",
    "\n",
    "An experiment to compare the tension bond strength of polymer latex modified mortar (Portland cement mortar to which polymer latex emulsions have been added during mixing) to that of unmodified mortar resulted in \n",
    "\n",
    "Generate similar data by:"
   ]
  },
  {
   "cell_type": "code",
   "execution_count": null,
   "metadata": {},
   "outputs": [],
   "source": [
    "modified = stats.norm.rvs(size=40, loc=18, scale=1.6, random_state=42)\n",
    "unmodified = stats.norm.rvs(size=32, loc=16.8, scale=1.4, random_state=42)"
   ]
  },
  {
   "cell_type": "markdown",
   "metadata": {},
   "source": [
    "Assume that the bond strength distributions are both normal.\n",
    "\n",
    "1. Test $H_0: \\mu_{mod} \\leq \\mu_{unmod}$ versus $H_1: \\mu_{mod} > \\mu_{unmod}$ at a significance level of .01.\n",
    "2. Interpret your test result and the possible test error type."
   ]
  },
  {
   "cell_type": "markdown",
   "metadata": {},
   "source": [
    "## 7) Arsenic in Water\n",
    "\n",
    "Arsenic is a known carcinogen and poison.\n",
    "The standard laboratory procedures for measuring arsenic concentration (μg/L) in water are expensive.\n",
    "A new relatively quick and inexpensive field laboratory method has been introduced.\n",
    "See the article “Evaluation of a New Field Measurement Method for Arsenic in Drinking Water Samples,” J. of Envir. Engr., 2008: 382–388).\n",
    "Suppose the arsenic concentration was measured with two methods.\n",
    "\n",
    "Generate exercise data by"
   ]
  }
 ],
 "metadata": {
  "kernelspec": {
   "display_name": "Python 3",
   "language": "python",
   "name": "python3"
  },
  "language_info": {
   "codemirror_mode": {
    "name": "ipython",
    "version": 3
   },
   "file_extension": ".py",
   "mimetype": "text/x-python",
   "name": "python",
   "nbconvert_exporter": "python",
   "pygments_lexer": "ipython3",
   "version": "3.8.10"
  },
  "orig_nbformat": 4,
  "vscode": {
   "interpreter": {
    "hash": "767d51c1340bd893661ea55ea3124f6de3c7a262a8b4abca0554b478b1e2ff90"
   }
  }
 },
 "nbformat": 4,
 "nbformat_minor": 2
}
