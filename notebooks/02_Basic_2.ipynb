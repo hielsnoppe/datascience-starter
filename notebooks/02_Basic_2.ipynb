{
 "cells": [
  {
   "cell_type": "markdown",
   "metadata": {},
   "source": [
    "# Basic Python II"
   ]
  },
  {
   "cell_type": "markdown",
   "metadata": {},
   "source": [
    "## Conditionals"
   ]
  },
  {
   "cell_type": "code",
   "execution_count": 9,
   "metadata": {},
   "outputs": [
    {
     "name": "stdout",
     "output_type": "stream",
     "text": [
      "A is not less than TWO\n"
     ]
    }
   ],
   "source": [
    "a = 3\n",
    "\n",
    "if a < 2:\n",
    "    print('A is less than TWO')"
   ]
  },
  {
   "cell_type": "code",
   "execution_count": null,
   "metadata": {},
   "outputs": [],
   "source": [
    "a = 3\n",
    "\n",
    "if a < 2:\n",
    "    print('A is less than TWO')\n",
    "else:\n",
    "    print('A is not less than TWO')"
   ]
  },
  {
   "cell_type": "code",
   "execution_count": 10,
   "metadata": {},
   "outputs": [
    {
     "name": "stdout",
     "output_type": "stream",
     "text": [
      "A is greater than FIVE\n"
     ]
    }
   ],
   "source": [
    "a = 6\n",
    "\n",
    "if a < 2:\n",
    "    print('A is less than TWO')\n",
    "elif a > 5:\n",
    "    print('A is greater than FIVE')\n",
    "else:\n",
    "    print('A is not less than TWO')"
   ]
  },
  {
   "cell_type": "code",
   "execution_count": null,
   "metadata": {},
   "outputs": [],
   "source": [
    "# can take values \"Apple\", \"Banana\", \"Lemon\"\n",
    "fruit = \"Apple\"\n",
    "\n",
    "match fruit:\n",
    "    case \"Apple\":\n",
    "        print(\"An apple a day keeps the doctor away\")\n",
    "    case \"Banana\":\n",
    "        print()\n",
    "    case _: # default\n",
    "        print()\n",
    "\n",
    "if fruit == \"Apple\":\n",
    "    print(\"\")\n",
    "elif fruit == \"Banana\":\n",
    "    print(\"\")"
   ]
  },
  {
   "cell_type": "code",
   "execution_count": null,
   "metadata": {},
   "outputs": [],
   "source": [
    "result = \"Yes\" if (a < 5) else \"No\""
   ]
  },
  {
   "cell_type": "markdown",
   "metadata": {},
   "source": [
    "## Loops"
   ]
  },
  {
   "cell_type": "code",
   "execution_count": 12,
   "metadata": {},
   "outputs": [
    {
     "name": "stdout",
     "output_type": "stream",
     "text": [
      "0\n",
      "1\n",
      "2\n",
      "3\n",
      "4\n",
      "5\n",
      "6\n",
      "7\n",
      "8\n",
      "9\n"
     ]
    }
   ],
   "source": [
    "n = 10\n",
    "for i in range(n):\n",
    "    print(i)"
   ]
  },
  {
   "cell_type": "code",
   "execution_count": 13,
   "metadata": {},
   "outputs": [
    {
     "name": "stdout",
     "output_type": "stream",
     "text": [
      "A\n",
      "B\n",
      "C\n",
      "D\n",
      "E\n"
     ]
    }
   ],
   "source": [
    "my_list = [ \"A\", \"B\", \"C\", \"D\", \"E\" ]\n",
    "for letter in my_list:\n",
    "    print(letter)"
   ]
  },
  {
   "cell_type": "code",
   "execution_count": 15,
   "metadata": {},
   "outputs": [
    {
     "name": "stdout",
     "output_type": "stream",
     "text": [
      "A\n",
      "B\n",
      "C\n",
      "D\n",
      "E\n"
     ]
    }
   ],
   "source": [
    "for i in range(len(my_list)):\n",
    "    print(my_list[i])"
   ]
  },
  {
   "cell_type": "code",
   "execution_count": 16,
   "metadata": {},
   "outputs": [
    {
     "name": "stdout",
     "output_type": "stream",
     "text": [
      "Let's wait some seconds...\n"
     ]
    }
   ],
   "source": [
    "siren_sounds = True\n",
    "\n",
    "while siren_sounds:\n",
    "    print(\"Let's wait some seconds...\")\n",
    "    siren_sounds = False"
   ]
  },
  {
   "cell_type": "markdown",
   "metadata": {},
   "source": [
    "## Iteration and Comprehension"
   ]
  },
  {
   "cell_type": "code",
   "execution_count": null,
   "metadata": {},
   "outputs": [],
   "source": [
    "for item in my_list:\n",
    "    pass"
   ]
  },
  {
   "cell_type": "code",
   "execution_count": 17,
   "metadata": {},
   "outputs": [
    {
     "name": "stdout",
     "output_type": "stream",
     "text": [
      "A 12\n",
      "B 24\n"
     ]
    }
   ],
   "source": [
    "my_dict = {\n",
    "    \"A\": 12,\n",
    "    \"B\": 24\n",
    "}\n",
    "\n",
    "for key, value in my_dict.items():\n",
    "    print(key, value)"
   ]
  },
  {
   "cell_type": "code",
   "execution_count": 20,
   "metadata": {},
   "outputs": [
    {
     "name": "stdout",
     "output_type": "stream",
     "text": [
      "A 12\n",
      "B 24\n"
     ]
    }
   ],
   "source": [
    "for key in my_dict.keys():\n",
    "    print(key, my_dict[key])"
   ]
  },
  {
   "cell_type": "code",
   "execution_count": 19,
   "metadata": {},
   "outputs": [
    {
     "name": "stdout",
     "output_type": "stream",
     "text": [
      "12\n",
      "24\n"
     ]
    }
   ],
   "source": [
    "for value in my_dict.values():\n",
    "    print(value)"
   ]
  },
  {
   "cell_type": "code",
   "execution_count": 22,
   "metadata": {},
   "outputs": [
    {
     "data": {
      "text/plain": [
       "[0, 1, 2, 3, 4, 5, 6, 7, 8, 9]"
      ]
     },
     "execution_count": 22,
     "metadata": {},
     "output_type": "execute_result"
    }
   ],
   "source": [
    "my_list = [ i for i in range(10) ]\n",
    "my_list"
   ]
  },
  {
   "cell_type": "code",
   "execution_count": 23,
   "metadata": {},
   "outputs": [
    {
     "data": {
      "text/plain": [
       "[0, 2, 4, 6, 8, 10, 12, 14, 16, 18]"
      ]
     },
     "execution_count": 23,
     "metadata": {},
     "output_type": "execute_result"
    }
   ],
   "source": [
    "other = [ 2 * i for i in my_list ]\n",
    "other"
   ]
  },
  {
   "cell_type": "code",
   "execution_count": 24,
   "metadata": {},
   "outputs": [
    {
     "data": {
      "text/plain": [
       "{0: 0, 1: 2, 2: 4, 3: 6, 4: 8, 5: 10, 6: 12, 7: 14, 8: 16, 9: 18}"
      ]
     },
     "execution_count": 24,
     "metadata": {},
     "output_type": "execute_result"
    }
   ],
   "source": [
    "my_dict = { key: 2 * key for key in range(10) }\n",
    "my_dict"
   ]
  },
  {
   "cell_type": "markdown",
   "metadata": {},
   "source": [
    "Exercise:\n",
    "\n",
    "* Create a list of 100 random integers between 0 and 20.\n",
    "* For every value, count how often it occurs in the list.\n",
    "* Create a dictionary with values 0 to 20 as the keys and the counts as the values."
   ]
  },
  {
   "cell_type": "code",
   "execution_count": 27,
   "metadata": {},
   "outputs": [
    {
     "data": {
      "text/plain": [
       "8"
      ]
     },
     "execution_count": 27,
     "metadata": {},
     "output_type": "execute_result"
    }
   ],
   "source": [
    "import random\n",
    "x = random.random()\n",
    "x = random.randint(0, 10) # Use this to create random integers\n",
    "x"
   ]
  },
  {
   "cell_type": "code",
   "execution_count": 50,
   "metadata": {},
   "outputs": [
    {
     "data": {
      "text/plain": [
       "{0: 1,\n",
       " 1: 6,\n",
       " 2: 1,\n",
       " 3: 4,\n",
       " 4: 6,\n",
       " 5: 7,\n",
       " 6: 9,\n",
       " 7: 7,\n",
       " 8: 1,\n",
       " 9: 4,\n",
       " 10: 9,\n",
       " 11: 3,\n",
       " 12: 4,\n",
       " 13: 5,\n",
       " 14: 9,\n",
       " 15: 2,\n",
       " 16: 4,\n",
       " 17: 7,\n",
       " 18: 4,\n",
       " 19: 6,\n",
       " 20: 1}"
      ]
     },
     "execution_count": 50,
     "metadata": {},
     "output_type": "execute_result"
    }
   ],
   "source": [
    "my_list = [ random.randint(0, 20) for i in range(100) ] # list of 100 random integers between 0 and 20\n",
    "\n",
    "counts = { n: 0 for n in range(21) } # dictionary containing numbers 0 to 20 as keys and count of number as value\n",
    "\n",
    "for number in my_list:\n",
    "    counts[number] = counts[number] + 1\n",
    "\n",
    "counts"
   ]
  },
  {
   "cell_type": "code",
   "execution_count": 53,
   "metadata": {},
   "outputs": [
    {
     "data": {
      "text/plain": [
       "{0: 1,\n",
       " 1: 6,\n",
       " 2: 1,\n",
       " 3: 4,\n",
       " 4: 6,\n",
       " 5: 7,\n",
       " 6: 9,\n",
       " 7: 7,\n",
       " 8: 1,\n",
       " 9: 4,\n",
       " 10: 9,\n",
       " 11: 3,\n",
       " 12: 4,\n",
       " 13: 5,\n",
       " 14: 9,\n",
       " 15: 2,\n",
       " 16: 4,\n",
       " 17: 7,\n",
       " 18: 4,\n",
       " 19: 6,\n",
       " 20: 1}"
      ]
     },
     "execution_count": 53,
     "metadata": {},
     "output_type": "execute_result"
    }
   ],
   "source": [
    "# Alternative approach, not working!\n",
    "x = { i: ( (x[i] + 1) if i in x.keys() else 1 ) for i in my_list }\n",
    "x\n",
    "\n",
    "# Alternative approach\n",
    "counts = { n: my_list.count(n) for n in range(0, 21) }\n",
    "counts"
   ]
  }
 ],
 "metadata": {
  "kernelspec": {
   "display_name": ".venv",
   "language": "python",
   "name": "python3"
  },
  "language_info": {
   "codemirror_mode": {
    "name": "ipython",
    "version": 3
   },
   "file_extension": ".py",
   "mimetype": "text/x-python",
   "name": "python",
   "nbconvert_exporter": "python",
   "pygments_lexer": "ipython3",
   "version": "3.10.12"
  }
 },
 "nbformat": 4,
 "nbformat_minor": 2
}
