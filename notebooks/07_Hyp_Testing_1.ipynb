{
 "cells": [
  {
   "cell_type": "code",
   "execution_count": null,
   "metadata": {},
   "outputs": [],
   "source": [
    "import random\n",
    "import pandas as pd\n",
    "\n",
    "def random_promotions():\n",
    "    df = pd.DataFrame({'applications': [ 'F' for i in range(0, 24) ] + [ 'M' for i in range(0, 24) ]})\n",
    "    df['promotions'] = df['applications'].map(lambda x: bool(random.getrandbits(1)))\n",
    "    return df\n",
    "\n",
    "df = random_promotions()\n",
    "\n",
    "tab = pd.crosstab(df['applications'], df['promotions'], normalize=True, margins=True)\n",
    "tab"
   ]
  },
  {
   "cell_type": "code",
   "execution_count": null,
   "metadata": {},
   "outputs": [],
   "source": [
    "p_female, p_male = tab.iloc[0, 1], tab.iloc[1, 1]\n",
    "delta = p_male - p_female\n",
    "delta"
   ]
  },
  {
   "cell_type": "code",
   "execution_count": null,
   "metadata": {},
   "outputs": [],
   "source": [
    "\n",
    "def experiment_gender_discrimination(n=1):\n",
    "    df = pd.DataFrame(columns=['p_female', 'p_male'])\n",
    "\n",
    "    for i in range(0, n):\n",
    "        df1 = random_promotions()\n",
    "        tab = pd.crosstab(df1['applications'], df1['promotions'], normalize=True, margins=True)\n",
    "        df.loc[i] = [tab.iloc[0, 1], tab.iloc[1, 1]]\n",
    "\n",
    "    df['delta'] = df['p_male'] - df['p_female']\n",
    "    return df\n",
    "\n",
    "df = experiment_gender_discrimination(n=100)\n",
    "df.head()"
   ]
  },
  {
   "cell_type": "code",
   "execution_count": null,
   "metadata": {},
   "outputs": [],
   "source": [
    "df['delta'].mean()"
   ]
  }
 ],
 "metadata": {
  "kernelspec": {
   "display_name": ".venv",
   "language": "python",
   "name": "python3"
  },
  "language_info": {
   "codemirror_mode": {
    "name": "ipython",
    "version": 3
   },
   "file_extension": ".py",
   "mimetype": "text/x-python",
   "name": "python",
   "nbconvert_exporter": "python",
   "pygments_lexer": "ipython3",
   "version": "3.10.12"
  }
 },
 "nbformat": 4,
 "nbformat_minor": 2
}
