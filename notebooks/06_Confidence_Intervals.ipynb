{
 "cells": [
  {
   "cell_type": "markdown",
   "metadata": {},
   "source": [
    "# Confidence Intervals"
   ]
  },
  {
   "cell_type": "markdown",
   "metadata": {},
   "source": [
    "## Sampling Distributions"
   ]
  },
  {
   "cell_type": "code",
   "execution_count": 26,
   "metadata": {},
   "outputs": [],
   "source": [
    "import pandas as pd\n",
    "import random\n",
    "from scipy import stats\n",
    "\n",
    "def fake_population(size, dist):\n",
    "    '''Create a fake population from a given distribution\n",
    "    \n",
    "    See also https://docs.scipy.org/doc/scipy/tutorial/stats/continuous.html\n",
    "    '''\n",
    "    dists = ['dweibull', 'fatiguelife', 'gompertz', 'laplace', 'norm', 'rayleigh', 'uniform']\n",
    "\n",
    "    if dist == 'random':\n",
    "        return fake_population(size, dist=random.choice(dists))\n",
    "\n",
    "    match dist:\n",
    "        case 'dweibull':\n",
    "            # https://docs.scipy.org/doc/scipy/tutorial/stats/continuous_dweibull.html\n",
    "            # https://en.wikipedia.org/wiki/Weibull_distribution\n",
    "            return stats.dweibull.rvs(c=2.07, size=size)\n",
    "        case 'fatiguelife':\n",
    "            # https://docs.scipy.org/doc/scipy/tutorial/stats/continuous_fatiguelife.html\n",
    "            # https://en.wikipedia.org/wiki/Birnbaum%E2%80%93Saunders_distribution\n",
    "            return stats.fatiguelife.rvs(c=29, size=size)\n",
    "        case 'gompertz':\n",
    "            # https://docs.scipy.org/doc/scipy/tutorial/stats/continuous_gompertz.html\n",
    "            # https://en.wikipedia.org/wiki/Gompertz_distribution\n",
    "            return stats.gompertz.rvs(c=0.947, size=size)\n",
    "        case 'laplace':\n",
    "            # https://docs.scipy.org/doc/scipy/tutorial/stats/continuous_laplace.html\n",
    "            # https://en.wikipedia.org/wiki/Laplace_distribution\n",
    "            return stats.laplace.rvs(size=size)\n",
    "        case 'nakagami':\n",
    "            # https://docs.scipy.org/doc/scipy/tutorial/stats/continuous_nakagami.html\n",
    "            # https://en.wikipedia.org/wiki/Nakagami_distribution\n",
    "            return stats.nakagami.rvs(nu=4.97, size=size)\n",
    "        case 'norm':\n",
    "            # https://docs.scipy.org/doc/scipy/tutorial/stats/continuous_norm.html\n",
    "            # https://en.wikipedia.org/wiki/Normal_distribution\n",
    "            return stats.norm.rvs(size=size)\n",
    "        case 'rayleigh':\n",
    "            # https://docs.scipy.org/doc/scipy/tutorial/stats/continuous_rayleigh.html\n",
    "            # https://en.wikipedia.org/wiki/Rayleigh_distribution\n",
    "            return stats.rayleigh.rvs(size=size)\n",
    "        case 'uniform':\n",
    "            # https://docs.scipy.org/doc/scipy/tutorial/stats/continuous_uniform.html\n",
    "            # https://en.wikipedia.org/wiki/Continuous_uniform_distribution\n",
    "            return stats.uniform.rvs(size=size)\n",
    "        case _:\n",
    "            raise Exception(f'No such distribution: {dist}')\n"
   ]
  },
  {
   "cell_type": "code",
   "execution_count": 27,
   "metadata": {},
   "outputs": [],
   "source": [
    "# Set parameters of experiment\n",
    "pop_size = 1000000 # population size\n",
    "spl_size = 100 # sample size\n",
    "n = 100 # number of samples\n"
   ]
  },
  {
   "cell_type": "markdown",
   "metadata": {},
   "source": [
    "**Exercise:** Create a fake population\n",
    "\n",
    "In this step we create fake data for a hypothetical population.\n",
    "Keep in mind that under normal conditions we almost never have access to the data from the whole population."
   ]
  },
  {
   "cell_type": "code",
   "execution_count": 28,
   "metadata": {},
   "outputs": [
    {
     "data": {
      "text/plain": [
       "0    0.345192\n",
       "1    0.962939\n",
       "2    0.032356\n",
       "3    0.076050\n",
       "4    0.203334\n",
       "dtype: float64"
      ]
     },
     "execution_count": 28,
     "metadata": {},
     "output_type": "execute_result"
    }
   ],
   "source": [
    "\n",
    "# Generate a fake population from an unknown distribution\n",
    "pop = pd.Series(fake_population(size=pop_size, dist='random'))\n",
    "pop.head()"
   ]
  },
  {
   "cell_type": "code",
   "execution_count": 29,
   "metadata": {},
   "outputs": [
    {
     "data": {
      "text/plain": [
       "<Axes: >"
      ]
     },
     "execution_count": 29,
     "metadata": {},
     "output_type": "execute_result"
    },
    {
     "data": {
      "image/png": "[encoded data removed]",
      "text/plain": [
       "<Figure size 640x480 with 1 Axes>"
      ]
     },
     "metadata": {},
     "output_type": "display_data"
    }
   ],
   "source": [
    "pop.hist()"
   ]
  },
  {
   "cell_type": "code",
   "execution_count": 30,
   "metadata": {},
   "outputs": [
    {
     "data": {
      "text/plain": [
       "(0.5005408894106427, 0.2888111019319832)"
      ]
     },
     "execution_count": 30,
     "metadata": {},
     "output_type": "execute_result"
    }
   ],
   "source": [
    "pop.mean(), pop.std()"
   ]
  },
  {
   "cell_type": "markdown",
   "metadata": {},
   "source": [
    "**Exercise:** Draw a sample from the population\n",
    "\n",
    "In this step we are massively simplifying a process which under normal conditions is much more involved,\n",
    "e.g. taking a survey or performing a lab or field experiment.\n",
    "This allows us to repeat this step in order to observe an effect,\n",
    "which under normal conditions we take as a given.\n",
    "\n",
    "Repeat this exercise and observe, how the results change."
   ]
  },
  {
   "cell_type": "code",
   "execution_count": 31,
   "metadata": {},
   "outputs": [
    {
     "data": {
      "text/plain": [
       "551908    0.535306\n",
       "333304    0.353432\n",
       "481237    0.941847\n",
       "804366    0.962145\n",
       "254390    0.318507\n",
       "            ...   \n",
       "674691    0.334092\n",
       "585699    0.755133\n",
       "258564    0.727238\n",
       "180305    0.501322\n",
       "191202    0.797397\n",
       "Length: 100, dtype: float64"
      ]
     },
     "execution_count": 31,
     "metadata": {},
     "output_type": "execute_result"
    }
   ],
   "source": [
    "df = pop.sample(spl_size)\n",
    "df"
   ]
  },
  {
   "cell_type": "code",
   "execution_count": 32,
   "metadata": {},
   "outputs": [
    {
     "data": {
      "text/plain": [
       "(0.5161124943268914, 0.30637418865157245)"
      ]
     },
     "execution_count": 32,
     "metadata": {},
     "output_type": "execute_result"
    }
   ],
   "source": [
    "df.mean(), df.std()"
   ]
  },
  {
   "cell_type": "markdown",
   "metadata": {},
   "source": [
    "**Exercise:** Draw multiple samples from the population\n",
    "\n",
    "In this step we programmatically repeat the previous step,\n",
    "collect the results in a `DataFrame` and calculate the mean for each sample.\n",
    "\n",
    "The distribution of the sample means is called a [sampling distribution](https://en.wikipedia.org/wiki/Sampling_distribution)."
   ]
  },
  {
   "cell_type": "code",
   "execution_count": 33,
   "metadata": {},
   "outputs": [
    {
     "data": {
      "text/plain": [
       "(0.5005408894106427, 0.502811840269009)"
      ]
     },
     "execution_count": 33,
     "metadata": {},
     "output_type": "execute_result"
    }
   ],
   "source": [
    "# Create DataFrame for the samples, each row contains one sample\n",
    "spl = pd.DataFrame(columns=[i for i in range(0, spl_size)])\n",
    "\n",
    "# Draw n samples of same size and add to DataFrame\n",
    "for i in range(0, n):\n",
    "    spl.loc[i] = pop.sample(spl_size).to_list()\n",
    "\n",
    "# Calculate the mean for each sample\n",
    "spl['mean'] = spl.mean(axis=1)\n",
    "\n",
    "# Compare population mean and mean of sampling distribution\n",
    "pop.mean(), spl['mean'].mean()"
   ]
  },
  {
   "cell_type": "code",
   "execution_count": 34,
   "metadata": {},
   "outputs": [
    {
     "data": {
      "text/plain": [
       "<Axes: >"
      ]
     },
     "execution_count": 34,
     "metadata": {},
     "output_type": "execute_result"
    },
    {
     "data": {
      "image/png": "[encoded data removed]",
      "text/plain": [
       "<Figure size 640x480 with 1 Axes>"
      ]
     },
     "metadata": {},
     "output_type": "display_data"
    }
   ],
   "source": [
    "spl['mean'].hist()"
   ]
  }
 ],
 "metadata": {
  "kernelspec": {
   "display_name": ".venv",
   "language": "python",
   "name": "python3"
  },
  "language_info": {
   "codemirror_mode": {
    "name": "ipython",
    "version": 3
   },
   "file_extension": ".py",
   "mimetype": "text/x-python",
   "name": "python",
   "nbconvert_exporter": "python",
   "pygments_lexer": "ipython3",
   "version": "3.10.12"
  }
 },
 "nbformat": 4,
 "nbformat_minor": 2
}
