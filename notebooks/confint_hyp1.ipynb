{
 "cells": [
  {
   "cell_type": "markdown",
   "metadata": {},
   "source": [
    "Build a confidence interval for proportions"
   ]
  },
  {
   "cell_type": "code",
   "execution_count": 30,
   "metadata": {},
   "outputs": [],
   "source": [
    "n = 850 # sample size\n",
    "p_hat = 0.67 # point estimate\n",
    "conf_level = 0.95 # confidence level\n",
    "alpha = 1 - conf_level"
   ]
  },
  {
   "cell_type": "code",
   "execution_count": 31,
   "metadata": {},
   "outputs": [
    {
     "data": {
      "text/plain": [
       "(0.6383893810609106, 0.7016106189390895)"
      ]
     },
     "execution_count": 31,
     "metadata": {},
     "output_type": "execute_result"
    }
   ],
   "source": [
    "import math\n",
    "from scipy import stats #  selective import\n",
    "\n",
    "std_err = math.sqrt(p_hat * (1 - p_hat) / n) # standard error\n",
    "\n",
    "z = stats.norm.ppf(1 - alpha / 2) # critical value\n",
    "\n",
    "half_length = z * std_err # margin of error\n",
    "\n",
    "ci = (p_hat - half_length, p_hat + half_length)\n",
    "ci"
   ]
  },
  {
   "cell_type": "markdown",
   "metadata": {},
   "source": [
    "Calculate confidence interval for proportions"
   ]
  },
  {
   "cell_type": "code",
   "execution_count": 25,
   "metadata": {},
   "outputs": [
    {
     "data": {
      "text/plain": [
       "(0.6383893810609106, 0.7016106189390895)"
      ]
     },
     "execution_count": 25,
     "metadata": {},
     "output_type": "execute_result"
    }
   ],
   "source": [
    "from statsmodels.stats.proportion import proportion_confint\n",
    "\n",
    "ci = proportion_confint(count=p_hat * n, nobs=n, alpha=alpha)\n",
    "#ci = proportion_confint(count=0.67 * 850, nobs=850, alpha=0.05)\n",
    "ci"
   ]
  },
  {
   "cell_type": "markdown",
   "metadata": {},
   "source": [
    "Perform hypothesis test for one proportion"
   ]
  },
  {
   "cell_type": "code",
   "execution_count": 26,
   "metadata": {},
   "outputs": [
    {
     "data": {
      "text/plain": [
       "(10.540567965905424, 5.615870314163244e-26)"
      ]
     },
     "execution_count": 26,
     "metadata": {},
     "output_type": "execute_result"
    }
   ],
   "source": [
    "from statsmodels.stats.proportion import proportions_ztest\n",
    "\n",
    "stat, pval = proportions_ztest(count=p_hat*n, nobs=n, value=0.5, alternative='two-sided')\n",
    "stat, pval"
   ]
  },
  {
   "cell_type": "code",
   "execution_count": 33,
   "metadata": {},
   "outputs": [
    {
     "data": {
      "text/plain": [
       "(10.540567965905424, 2.807935157081622e-26)"
      ]
     },
     "execution_count": 33,
     "metadata": {},
     "output_type": "execute_result"
    }
   ],
   "source": [
    "stat, pval = proportions_ztest(\n",
    "    count=p_hat*n,\n",
    "    nobs=n,\n",
    "    value=0.5,\n",
    "    alternative='larger')\n",
    "stat, pval"
   ]
  },
  {
   "cell_type": "code",
   "execution_count": 34,
   "metadata": {},
   "outputs": [
    {
     "data": {
      "text/plain": [
       "(10.540567965905424, 1.0)"
      ]
     },
     "execution_count": 34,
     "metadata": {},
     "output_type": "execute_result"
    }
   ],
   "source": [
    "stat, pval = proportions_ztest(\n",
    "    count=p_hat*n,\n",
    "    nobs=n,\n",
    "    value=0.5,\n",
    "    alternative='smaller')\n",
    "stat, pval"
   ]
  },
  {
   "cell_type": "markdown",
   "metadata": {},
   "source": [
    "Build confidence interval for difference of proportions"
   ]
  },
  {
   "cell_type": "code",
   "execution_count": 36,
   "metadata": {},
   "outputs": [],
   "source": [
    "counts = [69, 454] # \"positive\" outcomes\n",
    "n = [105, 680] # sample sizes\n",
    "p_hat = [ # point estimates\n",
    "    counts[0] / n[0], # first group\n",
    "    counts[1] / n[1] # second group\n",
    "    ]\n",
    "\n",
    "conf_level = 0.95 # confidence level\n",
    "alpha = 1 - conf_level"
   ]
  },
  {
   "cell_type": "code",
   "execution_count": 39,
   "metadata": {},
   "outputs": [
    {
     "data": {
      "text/plain": [
       "(-0.10795379986302829, 0.08694539650168383)"
      ]
     },
     "execution_count": 39,
     "metadata": {},
     "output_type": "execute_result"
    }
   ],
   "source": [
    "import math\n",
    "from scipy import stats\n",
    "\n",
    "std_err = math.sqrt( # standard error\n",
    "    p_hat[0] * (1 - p_hat[0]) / n[0] +\n",
    "    p_hat[1] * (1 - p_hat[1]) / n[1]\n",
    "    )\n",
    "\n",
    "z = stats.norm.ppf(1 - alpha / 2) # critical value\n",
    "\n",
    "point_estimate = p_hat[0] - p_hat[1] # point estimate\n",
    "\n",
    "half_length = z * std_err # margin of error\n",
    "\n",
    "ci = (point_estimate - half_length, point_estimate + half_length)\n",
    "ci"
   ]
  },
  {
   "cell_type": "markdown",
   "metadata": {},
   "source": [
    "Perform hypothesis test for difference of proportions"
   ]
  },
  {
   "cell_type": "code",
   "execution_count": 40,
   "metadata": {},
   "outputs": [
    {
     "data": {
      "text/plain": [
       "(-0.21244450181543953, 0.831760270598643)"
      ]
     },
     "execution_count": 40,
     "metadata": {},
     "output_type": "execute_result"
    }
   ],
   "source": [
    "from statsmodels.stats.proportion import proportions_ztest\n",
    "\n",
    "stat, pval = proportions_ztest(count=counts, nobs=n, alternative='two-sided')\n",
    "stat, pval = proportions_ztest(count=[69, 454], nobs=[105, 680],\n",
    "                               alternative='two-sided')\n",
    "stat, pval"
   ]
  },
  {
   "cell_type": "code",
   "execution_count": 41,
   "metadata": {},
   "outputs": [
    {
     "data": {
      "text/plain": [
       "(0.5131032144560886, 0.6161102686899788)"
      ]
     },
     "execution_count": 41,
     "metadata": {},
     "output_type": "execute_result"
    }
   ],
   "source": [
    "sample_size = 356\n",
    "positive_outcomes = 201\n",
    "proportion = positive_outcomes / sample_size\n",
    "confidence_level = .95\n",
    "significance_level = 1 - confidence_level # this is alpha!\n",
    "\n",
    "proportion_confint(\n",
    "    count=positive_outcomes,\n",
    "    nobs=sample_size,\n",
    "    alpha=significance_level\n",
    "    )"
   ]
  },
  {
   "cell_type": "code",
   "execution_count": 42,
   "metadata": {},
   "outputs": [
    {
     "data": {
      "text/plain": [
       "(0.5131032144560886, 0.6161102686899788)"
      ]
     },
     "execution_count": 42,
     "metadata": {},
     "output_type": "execute_result"
    }
   ],
   "source": [
    "proportion_confint(201, 356, .05)"
   ]
  },
  {
   "cell_type": "code",
   "execution_count": 45,
   "metadata": {},
   "outputs": [
    {
     "data": {
      "text/plain": [
       "(0.5396458584288474, 0.5806382072613435)"
      ]
     },
     "execution_count": 45,
     "metadata": {},
     "output_type": "execute_result"
    }
   ],
   "source": [
    "ci = proportion_confint(1262, 2253, .05)\n",
    "ci"
   ]
  },
  {
   "cell_type": "code",
   "execution_count": 44,
   "metadata": {},
   "outputs": [
    {
     "data": {
      "text/plain": [
       "0.5601420328450954"
      ]
     },
     "execution_count": 44,
     "metadata": {},
     "output_type": "execute_result"
    }
   ],
   "source": [
    "p_hat = 1262 / 2253\n",
    "p_hat"
   ]
  },
  {
   "cell_type": "code",
   "execution_count": 46,
   "metadata": {},
   "outputs": [
    {
     "data": {
      "text/plain": [
       "0.5601420328450954"
      ]
     },
     "execution_count": 46,
     "metadata": {},
     "output_type": "execute_result"
    }
   ],
   "source": [
    "(ci[0] + ci[1]) / 2"
   ]
  },
  {
   "cell_type": "code",
   "execution_count": 47,
   "metadata": {},
   "outputs": [
    {
     "data": {
      "text/plain": [
       "(5.751132671859348, 8.864751263709231e-09)"
      ]
     },
     "execution_count": 47,
     "metadata": {},
     "output_type": "execute_result"
    }
   ],
   "source": [
    "zscore, pval = proportions_ztest(\n",
    "    1262, 2253, # sample proportion\n",
    "    value=0.5 # hypothesized proportion\n",
    "    )\n",
    "# H_0: p = 50%\n",
    "# H_A: p != 50%\n",
    "zscore, pval\n",
    "\n",
    "if pval < alpha:\n",
    "    print('Reject H_0')\n",
    "else:\n",
    "    print('Fail to reject H_0')"
   ]
  },
  {
   "cell_type": "markdown",
   "metadata": {},
   "source": [
    "## 3) Wafer\n",
    "\n",
    "The article “Limited Yield Estimation for Visual Defect Sources” (IEEE Trans. on Semiconductor Manuf., 1997: 17–23) reported that, in a study of a particular wafer inspection process, 356 dies were examined by an inspection probe and 201 of these passed the probe. Assuming a stable process, calculate a 95% (two-sided) confidence interval for the proportion of all dies that pass the probe."
   ]
  },
  {
   "cell_type": "code",
   "execution_count": null,
   "metadata": {},
   "outputs": [],
   "source": [
    "proportion_confint(201, 356, alpha=1-.95)"
   ]
  },
  {
   "cell_type": "markdown",
   "metadata": {},
   "source": [
    "## 6) Wireless Means for Online Access\n",
    "\n",
    "An April 2009 survey of 2253 American adults conducted by the Pew Research Center’s Internet & American Life Project revealed that 1262 of the respondents had at some point used wireless means for online access.\n",
    "Calculate and interpret a 95% CI for the proportion of all American adults who at the time of the survey had used wireless means for online access."
   ]
  },
  {
   "cell_type": "code",
   "execution_count": null,
   "metadata": {},
   "outputs": [],
   "source": [
    "proportion_confint(1262, 2253, alpha=1-.95)"
   ]
  }
 ],
 "metadata": {
  "kernelspec": {
   "display_name": ".venv",
   "language": "python",
   "name": "python3"
  },
  "language_info": {
   "codemirror_mode": {
    "name": "ipython",
    "version": 3
   },
   "file_extension": ".py",
   "mimetype": "text/x-python",
   "name": "python",
   "nbconvert_exporter": "python",
   "pygments_lexer": "ipython3",
   "version": "3.9.19"
  }
 },
 "nbformat": 4,
 "nbformat_minor": 2
}
